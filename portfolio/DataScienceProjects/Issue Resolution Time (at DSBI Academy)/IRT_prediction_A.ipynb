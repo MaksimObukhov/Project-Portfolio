{
 "cells": [
  {
   "cell_type": "code",
   "execution_count": 1,
   "id": "e66eb23c",
   "metadata": {
    "pycharm": {
     "name": "#%%\n"
    }
   },
   "outputs": [],
   "source": [
    "## Overview"
   ]
  },
  {
   "cell_type": "code",
   "execution_count": 2,
   "id": "59e9df13",
   "metadata": {
    "pycharm": {
     "name": "#%%\n"
    }
   },
   "outputs": [],
   "source": [
    "# df - main dataframe "
   ]
  },
  {
   "cell_type": "code",
   "execution_count": 1,
   "id": "5651df21",
   "metadata": {
    "pycharm": {
     "name": "#%%\n"
    }
   },
   "outputs": [
    {
     "name": "stdin",
     "output_type": "stream",
     "text": [
      "Once deleted, variables cannot be recovered. Proceed (y/[n])?  y\n"
     ]
    }
   ],
   "source": [
    "%reset"
   ]
  },
  {
   "cell_type": "markdown",
   "id": "ebfc427f",
   "metadata": {
    "pycharm": {
     "name": "#%% md\n"
    },
    "tags": []
   },
   "source": [
    "## Libraries"
   ]
  },
  {
   "cell_type": "code",
   "execution_count": 2,
   "id": "6ebc0a5c",
   "metadata": {
    "pycharm": {
     "name": "#%%\n"
    }
   },
   "outputs": [],
   "source": [
    "import numpy as np\n",
    "import pandas as pd\n",
    "import sklearn\n",
    "from matplotlib import pyplot as plt\n",
    "import seaborn as sns\n",
    "from datetime import datetime as dt\n",
    "import re\n",
    "import warnings\n",
    "import os\n",
    "warnings.filterwarnings('ignore')"
   ]
  },
  {
   "cell_type": "markdown",
   "id": "65da117a",
   "metadata": {
    "pycharm": {
     "name": "#%% md\n"
    }
   },
   "source": [
    "## Reading CSV data"
   ]
  },
  {
   "cell_type": "code",
   "execution_count": 3,
   "id": "fe7fa478",
   "metadata": {
    "pycharm": {
     "name": "#%%\n"
    }
   },
   "outputs": [
    {
     "name": "stdout",
     "output_type": "stream",
     "text": [
      "/home/jovyan/ukol1_tmp\n"
     ]
    }
   ],
   "source": [
    "current_dir = os.getcwd()\n",
    "\n",
    "print(current_dir)"
   ]
  },
  {
   "cell_type": "code",
   "execution_count": 4,
   "id": "4579f630",
   "metadata": {
    "pycharm": {
     "name": "#%%\n"
    },
    "tags": []
   },
   "outputs": [],
   "source": [
    "raw_data = pd.read_csv(\"incident_event_log.csv\")\n",
    "metadata = pd.read_csv(\"irt_metadata_csv.csv\")\n",
    "df = raw_data"
   ]
  },
  {
   "cell_type": "code",
   "execution_count": 5,
   "id": "0a62a0bf",
   "metadata": {
    "pycharm": {
     "name": "#%%\n"
    }
   },
   "outputs": [],
   "source": [
    "df.columns = df.columns.str.strip()"
   ]
  },
  {
   "cell_type": "code",
   "execution_count": 6,
   "id": "2c6c9e37",
   "metadata": {
    "pycharm": {
     "name": "#%%\n"
    }
   },
   "outputs": [
    {
     "data": {
      "text/html": [
       "<div>\n",
       "<style scoped>\n",
       "    .dataframe tbody tr th:only-of-type {\n",
       "        vertical-align: middle;\n",
       "    }\n",
       "\n",
       "    .dataframe tbody tr th {\n",
       "        vertical-align: top;\n",
       "    }\n",
       "\n",
       "    .dataframe thead th {\n",
       "        text-align: right;\n",
       "    }\n",
       "</style>\n",
       "<table border=\"1\" class=\"dataframe\">\n",
       "  <thead>\n",
       "    <tr style=\"text-align: right;\">\n",
       "      <th></th>\n",
       "      <th>number</th>\n",
       "      <th>incident_state</th>\n",
       "      <th>active</th>\n",
       "      <th>reassignment_count</th>\n",
       "      <th>reopen_count</th>\n",
       "      <th>sys_mod_count</th>\n",
       "      <th>made_sla</th>\n",
       "      <th>caller_id</th>\n",
       "      <th>opened_by</th>\n",
       "      <th>opened_at</th>\n",
       "      <th>...</th>\n",
       "      <th>u_priority_confirmation</th>\n",
       "      <th>notify</th>\n",
       "      <th>problem_id</th>\n",
       "      <th>rfc</th>\n",
       "      <th>vendor</th>\n",
       "      <th>caused_by</th>\n",
       "      <th>closed_code</th>\n",
       "      <th>resolved_by</th>\n",
       "      <th>resolved_at</th>\n",
       "      <th>closed_at</th>\n",
       "    </tr>\n",
       "  </thead>\n",
       "  <tbody>\n",
       "    <tr>\n",
       "      <th>0</th>\n",
       "      <td>INC0000045</td>\n",
       "      <td>New</td>\n",
       "      <td>True</td>\n",
       "      <td>0</td>\n",
       "      <td>0</td>\n",
       "      <td>0</td>\n",
       "      <td>True</td>\n",
       "      <td>Caller 2403</td>\n",
       "      <td>Opened by  8</td>\n",
       "      <td>29/2/2016 01:16</td>\n",
       "      <td>...</td>\n",
       "      <td>False</td>\n",
       "      <td>Do Not Notify</td>\n",
       "      <td>?</td>\n",
       "      <td>?</td>\n",
       "      <td>?</td>\n",
       "      <td>?</td>\n",
       "      <td>code 5</td>\n",
       "      <td>Resolved by 149</td>\n",
       "      <td>29/2/2016 11:29</td>\n",
       "      <td>5/3/2016 12:00</td>\n",
       "    </tr>\n",
       "    <tr>\n",
       "      <th>1</th>\n",
       "      <td>INC0000045</td>\n",
       "      <td>Resolved</td>\n",
       "      <td>True</td>\n",
       "      <td>0</td>\n",
       "      <td>0</td>\n",
       "      <td>2</td>\n",
       "      <td>True</td>\n",
       "      <td>Caller 2403</td>\n",
       "      <td>Opened by  8</td>\n",
       "      <td>29/2/2016 01:16</td>\n",
       "      <td>...</td>\n",
       "      <td>False</td>\n",
       "      <td>Do Not Notify</td>\n",
       "      <td>?</td>\n",
       "      <td>?</td>\n",
       "      <td>?</td>\n",
       "      <td>?</td>\n",
       "      <td>code 5</td>\n",
       "      <td>Resolved by 149</td>\n",
       "      <td>29/2/2016 11:29</td>\n",
       "      <td>5/3/2016 12:00</td>\n",
       "    </tr>\n",
       "    <tr>\n",
       "      <th>2</th>\n",
       "      <td>INC0000045</td>\n",
       "      <td>Resolved</td>\n",
       "      <td>True</td>\n",
       "      <td>0</td>\n",
       "      <td>0</td>\n",
       "      <td>3</td>\n",
       "      <td>True</td>\n",
       "      <td>Caller 2403</td>\n",
       "      <td>Opened by  8</td>\n",
       "      <td>29/2/2016 01:16</td>\n",
       "      <td>...</td>\n",
       "      <td>False</td>\n",
       "      <td>Do Not Notify</td>\n",
       "      <td>?</td>\n",
       "      <td>?</td>\n",
       "      <td>?</td>\n",
       "      <td>?</td>\n",
       "      <td>code 5</td>\n",
       "      <td>Resolved by 149</td>\n",
       "      <td>29/2/2016 11:29</td>\n",
       "      <td>5/3/2016 12:00</td>\n",
       "    </tr>\n",
       "    <tr>\n",
       "      <th>3</th>\n",
       "      <td>INC0000045</td>\n",
       "      <td>Closed</td>\n",
       "      <td>False</td>\n",
       "      <td>0</td>\n",
       "      <td>0</td>\n",
       "      <td>4</td>\n",
       "      <td>True</td>\n",
       "      <td>Caller 2403</td>\n",
       "      <td>Opened by  8</td>\n",
       "      <td>29/2/2016 01:16</td>\n",
       "      <td>...</td>\n",
       "      <td>False</td>\n",
       "      <td>Do Not Notify</td>\n",
       "      <td>?</td>\n",
       "      <td>?</td>\n",
       "      <td>?</td>\n",
       "      <td>?</td>\n",
       "      <td>code 5</td>\n",
       "      <td>Resolved by 149</td>\n",
       "      <td>29/2/2016 11:29</td>\n",
       "      <td>5/3/2016 12:00</td>\n",
       "    </tr>\n",
       "    <tr>\n",
       "      <th>4</th>\n",
       "      <td>INC0000047</td>\n",
       "      <td>New</td>\n",
       "      <td>True</td>\n",
       "      <td>0</td>\n",
       "      <td>0</td>\n",
       "      <td>0</td>\n",
       "      <td>True</td>\n",
       "      <td>Caller 2403</td>\n",
       "      <td>Opened by  397</td>\n",
       "      <td>29/2/2016 04:40</td>\n",
       "      <td>...</td>\n",
       "      <td>False</td>\n",
       "      <td>Do Not Notify</td>\n",
       "      <td>?</td>\n",
       "      <td>?</td>\n",
       "      <td>?</td>\n",
       "      <td>?</td>\n",
       "      <td>code 5</td>\n",
       "      <td>Resolved by 81</td>\n",
       "      <td>1/3/2016 09:52</td>\n",
       "      <td>6/3/2016 10:00</td>\n",
       "    </tr>\n",
       "  </tbody>\n",
       "</table>\n",
       "<p>5 rows × 36 columns</p>\n",
       "</div>"
      ],
      "text/plain": [
       "       number incident_state  active  reassignment_count  reopen_count  \\\n",
       "0  INC0000045            New    True                   0             0   \n",
       "1  INC0000045       Resolved    True                   0             0   \n",
       "2  INC0000045       Resolved    True                   0             0   \n",
       "3  INC0000045         Closed   False                   0             0   \n",
       "4  INC0000047            New    True                   0             0   \n",
       "\n",
       "   sys_mod_count  made_sla    caller_id       opened_by        opened_at  ...  \\\n",
       "0              0      True  Caller 2403    Opened by  8  29/2/2016 01:16  ...   \n",
       "1              2      True  Caller 2403    Opened by  8  29/2/2016 01:16  ...   \n",
       "2              3      True  Caller 2403    Opened by  8  29/2/2016 01:16  ...   \n",
       "3              4      True  Caller 2403    Opened by  8  29/2/2016 01:16  ...   \n",
       "4              0      True  Caller 2403  Opened by  397  29/2/2016 04:40  ...   \n",
       "\n",
       "  u_priority_confirmation         notify problem_id rfc vendor caused_by  \\\n",
       "0                   False  Do Not Notify          ?   ?      ?         ?   \n",
       "1                   False  Do Not Notify          ?   ?      ?         ?   \n",
       "2                   False  Do Not Notify          ?   ?      ?         ?   \n",
       "3                   False  Do Not Notify          ?   ?      ?         ?   \n",
       "4                   False  Do Not Notify          ?   ?      ?         ?   \n",
       "\n",
       "  closed_code      resolved_by      resolved_at       closed_at  \n",
       "0      code 5  Resolved by 149  29/2/2016 11:29  5/3/2016 12:00  \n",
       "1      code 5  Resolved by 149  29/2/2016 11:29  5/3/2016 12:00  \n",
       "2      code 5  Resolved by 149  29/2/2016 11:29  5/3/2016 12:00  \n",
       "3      code 5  Resolved by 149  29/2/2016 11:29  5/3/2016 12:00  \n",
       "4      code 5   Resolved by 81   1/3/2016 09:52  6/3/2016 10:00  \n",
       "\n",
       "[5 rows x 36 columns]"
      ]
     },
     "execution_count": 6,
     "metadata": {},
     "output_type": "execute_result"
    }
   ],
   "source": [
    "df.head()"
   ]
  },
  {
   "cell_type": "markdown",
   "id": "798b21d8",
   "metadata": {
    "pycharm": {
     "name": "#%% md\n"
    }
   },
   "source": [
    "## Metadata - Attribute Descriptions"
   ]
  },
  {
   "cell_type": "code",
   "execution_count": 7,
   "id": "24887d22",
   "metadata": {
    "pycharm": {
     "name": "#%%\n"
    },
    "tags": []
   },
   "outputs": [
    {
     "data": {
      "text/html": [
       "<div>\n",
       "<style scoped>\n",
       "    .dataframe tbody tr th:only-of-type {\n",
       "        vertical-align: middle;\n",
       "    }\n",
       "\n",
       "    .dataframe tbody tr th {\n",
       "        vertical-align: top;\n",
       "    }\n",
       "\n",
       "    .dataframe thead th {\n",
       "        text-align: right;\n",
       "    }\n",
       "</style>\n",
       "<table border=\"1\" class=\"dataframe\">\n",
       "  <thead>\n",
       "    <tr style=\"text-align: right;\">\n",
       "      <th></th>\n",
       "      <th>Attribute</th>\n",
       "      <th>Description</th>\n",
       "    </tr>\n",
       "  </thead>\n",
       "  <tbody>\n",
       "    <tr>\n",
       "      <th>0</th>\n",
       "      <td>1. number</td>\n",
       "      <td>incident identifier (24,918 different values);</td>\n",
       "    </tr>\n",
       "    <tr>\n",
       "      <th>1</th>\n",
       "      <td>2. incident state</td>\n",
       "      <td>eight levels controlling the incident managem...</td>\n",
       "    </tr>\n",
       "    <tr>\n",
       "      <th>2</th>\n",
       "      <td>3. active</td>\n",
       "      <td>boolean attribute that shows whether the reco...</td>\n",
       "    </tr>\n",
       "    <tr>\n",
       "      <th>3</th>\n",
       "      <td>4. reassignment_count</td>\n",
       "      <td>number of times the incident has the group or...</td>\n",
       "    </tr>\n",
       "    <tr>\n",
       "      <th>4</th>\n",
       "      <td>5. reopen_count</td>\n",
       "      <td>number of times the incident resolution was r...</td>\n",
       "    </tr>\n",
       "    <tr>\n",
       "      <th>5</th>\n",
       "      <td>6. sys_mod_count</td>\n",
       "      <td>number of incident updates until that moment;</td>\n",
       "    </tr>\n",
       "    <tr>\n",
       "      <th>6</th>\n",
       "      <td>7. made_sla</td>\n",
       "      <td>boolean attribute that shows whether the inci...</td>\n",
       "    </tr>\n",
       "    <tr>\n",
       "      <th>7</th>\n",
       "      <td>8. caller_id</td>\n",
       "      <td>identifier of the user affected;</td>\n",
       "    </tr>\n",
       "    <tr>\n",
       "      <th>8</th>\n",
       "      <td>9. opened_by</td>\n",
       "      <td>identifier of the user who reported the incid...</td>\n",
       "    </tr>\n",
       "    <tr>\n",
       "      <th>9</th>\n",
       "      <td>10. opened_at</td>\n",
       "      <td>incident user opening date and time;</td>\n",
       "    </tr>\n",
       "    <tr>\n",
       "      <th>10</th>\n",
       "      <td>11. sys_created_by</td>\n",
       "      <td>identifier of the user who registered the inc...</td>\n",
       "    </tr>\n",
       "    <tr>\n",
       "      <th>11</th>\n",
       "      <td>12. sys_created_at</td>\n",
       "      <td>incident system creation date and time;</td>\n",
       "    </tr>\n",
       "    <tr>\n",
       "      <th>12</th>\n",
       "      <td>13. sys_updated_by</td>\n",
       "      <td>identifier of the user who updated the incide...</td>\n",
       "    </tr>\n",
       "    <tr>\n",
       "      <th>13</th>\n",
       "      <td>14. sys_updated_at</td>\n",
       "      <td>incident system update date and time;</td>\n",
       "    </tr>\n",
       "    <tr>\n",
       "      <th>14</th>\n",
       "      <td>15. contact_type</td>\n",
       "      <td>categorical attribute that shows by what mean...</td>\n",
       "    </tr>\n",
       "    <tr>\n",
       "      <th>15</th>\n",
       "      <td>16. location</td>\n",
       "      <td>identifier of the location of the place affec...</td>\n",
       "    </tr>\n",
       "    <tr>\n",
       "      <th>16</th>\n",
       "      <td>17. category</td>\n",
       "      <td>first-level description of the affected service;</td>\n",
       "    </tr>\n",
       "    <tr>\n",
       "      <th>17</th>\n",
       "      <td>18. subcategory</td>\n",
       "      <td>second-level description of the affected serv...</td>\n",
       "    </tr>\n",
       "    <tr>\n",
       "      <th>18</th>\n",
       "      <td>19. u_symptom</td>\n",
       "      <td>description of the user perception about serv...</td>\n",
       "    </tr>\n",
       "    <tr>\n",
       "      <th>19</th>\n",
       "      <td>20. cmdb_ci</td>\n",
       "      <td>(confirmation item) identifier used to report...</td>\n",
       "    </tr>\n",
       "    <tr>\n",
       "      <th>20</th>\n",
       "      <td>21. impact</td>\n",
       "      <td>description of the impact caused by the incid...</td>\n",
       "    </tr>\n",
       "    <tr>\n",
       "      <th>21</th>\n",
       "      <td>22. urgency</td>\n",
       "      <td>description of the urgency informed by the us...</td>\n",
       "    </tr>\n",
       "    <tr>\n",
       "      <th>22</th>\n",
       "      <td>23. priority</td>\n",
       "      <td>calculated by the system based on 'impact' an...</td>\n",
       "    </tr>\n",
       "    <tr>\n",
       "      <th>23</th>\n",
       "      <td>24. assignment_group</td>\n",
       "      <td>identifier of the support group in charge of ...</td>\n",
       "    </tr>\n",
       "    <tr>\n",
       "      <th>24</th>\n",
       "      <td>25. assigned_to</td>\n",
       "      <td>identifier of the user in charge of the incid...</td>\n",
       "    </tr>\n",
       "    <tr>\n",
       "      <th>25</th>\n",
       "      <td>26. knowledge</td>\n",
       "      <td>boolean attribute that shows whether a knowle...</td>\n",
       "    </tr>\n",
       "    <tr>\n",
       "      <th>26</th>\n",
       "      <td>27. u_priority_confirmation</td>\n",
       "      <td>boolean attribute that shows whether the prio...</td>\n",
       "    </tr>\n",
       "    <tr>\n",
       "      <th>27</th>\n",
       "      <td>28. notify</td>\n",
       "      <td>categorical attribute that shows whether noti...</td>\n",
       "    </tr>\n",
       "    <tr>\n",
       "      <th>28</th>\n",
       "      <td>29. problem_id</td>\n",
       "      <td>identifier of the problem associated with the...</td>\n",
       "    </tr>\n",
       "    <tr>\n",
       "      <th>29</th>\n",
       "      <td>30. rfc</td>\n",
       "      <td>(request for change) identifier of the change...</td>\n",
       "    </tr>\n",
       "    <tr>\n",
       "      <th>30</th>\n",
       "      <td>31. vendor</td>\n",
       "      <td>identifier of the vendor in charge of the inc...</td>\n",
       "    </tr>\n",
       "    <tr>\n",
       "      <th>31</th>\n",
       "      <td>32. caused_by</td>\n",
       "      <td>identifier of the RFC responsible by the inci...</td>\n",
       "    </tr>\n",
       "    <tr>\n",
       "      <th>32</th>\n",
       "      <td>33. close_code</td>\n",
       "      <td>identifier of the resolution of the incident;</td>\n",
       "    </tr>\n",
       "    <tr>\n",
       "      <th>33</th>\n",
       "      <td>34. resolved_by</td>\n",
       "      <td>identifier of the user who resolved the incid...</td>\n",
       "    </tr>\n",
       "    <tr>\n",
       "      <th>34</th>\n",
       "      <td>35. resolved_at</td>\n",
       "      <td>incident user resolution date and time (depen...</td>\n",
       "    </tr>\n",
       "    <tr>\n",
       "      <th>35</th>\n",
       "      <td>36. closed_at</td>\n",
       "      <td>incident user close date and time (dependent ...</td>\n",
       "    </tr>\n",
       "  </tbody>\n",
       "</table>\n",
       "</div>"
      ],
      "text/plain": [
       "                      Attribute  \\\n",
       "0                     1. number   \n",
       "1             2. incident state   \n",
       "2                     3. active   \n",
       "3         4. reassignment_count   \n",
       "4               5. reopen_count   \n",
       "5              6. sys_mod_count   \n",
       "6                   7. made_sla   \n",
       "7                  8. caller_id   \n",
       "8                  9. opened_by   \n",
       "9                 10. opened_at   \n",
       "10           11. sys_created_by   \n",
       "11           12. sys_created_at   \n",
       "12           13. sys_updated_by   \n",
       "13           14. sys_updated_at   \n",
       "14             15. contact_type   \n",
       "15                 16. location   \n",
       "16                 17. category   \n",
       "17              18. subcategory   \n",
       "18                19. u_symptom   \n",
       "19                  20. cmdb_ci   \n",
       "20                   21. impact   \n",
       "21                  22. urgency   \n",
       "22                 23. priority   \n",
       "23         24. assignment_group   \n",
       "24              25. assigned_to   \n",
       "25                26. knowledge   \n",
       "26  27. u_priority_confirmation   \n",
       "27                   28. notify   \n",
       "28               29. problem_id   \n",
       "29                      30. rfc   \n",
       "30                   31. vendor   \n",
       "31                32. caused_by   \n",
       "32               33. close_code   \n",
       "33              34. resolved_by   \n",
       "34              35. resolved_at   \n",
       "35                36. closed_at   \n",
       "\n",
       "                                          Description  \n",
       "0      incident identifier (24,918 different values);  \n",
       "1    eight levels controlling the incident managem...  \n",
       "2    boolean attribute that shows whether the reco...  \n",
       "3    number of times the incident has the group or...  \n",
       "4    number of times the incident resolution was r...  \n",
       "5       number of incident updates until that moment;  \n",
       "6    boolean attribute that shows whether the inci...  \n",
       "7                    identifier of the user affected;  \n",
       "8    identifier of the user who reported the incid...  \n",
       "9                incident user opening date and time;  \n",
       "10   identifier of the user who registered the inc...  \n",
       "11            incident system creation date and time;  \n",
       "12   identifier of the user who updated the incide...  \n",
       "13              incident system update date and time;  \n",
       "14   categorical attribute that shows by what mean...  \n",
       "15   identifier of the location of the place affec...  \n",
       "16   first-level description of the affected service;  \n",
       "17   second-level description of the affected serv...  \n",
       "18   description of the user perception about serv...  \n",
       "19   (confirmation item) identifier used to report...  \n",
       "20   description of the impact caused by the incid...  \n",
       "21   description of the urgency informed by the us...  \n",
       "22   calculated by the system based on 'impact' an...  \n",
       "23   identifier of the support group in charge of ...  \n",
       "24   identifier of the user in charge of the incid...  \n",
       "25   boolean attribute that shows whether a knowle...  \n",
       "26   boolean attribute that shows whether the prio...  \n",
       "27   categorical attribute that shows whether noti...  \n",
       "28   identifier of the problem associated with the...  \n",
       "29   (request for change) identifier of the change...  \n",
       "30   identifier of the vendor in charge of the inc...  \n",
       "31   identifier of the RFC responsible by the inci...  \n",
       "32      identifier of the resolution of the incident;  \n",
       "33   identifier of the user who resolved the incid...  \n",
       "34   incident user resolution date and time (depen...  \n",
       "35   incident user close date and time (dependent ...  "
      ]
     },
     "execution_count": 7,
     "metadata": {},
     "output_type": "execute_result"
    }
   ],
   "source": [
    "metadata"
   ]
  },
  {
   "cell_type": "markdown",
   "id": "a163e506",
   "metadata": {
    "pycharm": {
     "name": "#%% md\n"
    }
   },
   "source": [
    "## Data types"
   ]
  },
  {
   "cell_type": "code",
   "execution_count": 8,
   "id": "b0f5d023",
   "metadata": {
    "pycharm": {
     "name": "#%%\n"
    }
   },
   "outputs": [
    {
     "data": {
      "text/plain": [
       "number                     object\n",
       "incident_state             object\n",
       "active                       bool\n",
       "reassignment_count          int64\n",
       "reopen_count                int64\n",
       "sys_mod_count               int64\n",
       "made_sla                     bool\n",
       "caller_id                  object\n",
       "opened_by                  object\n",
       "opened_at                  object\n",
       "sys_created_by             object\n",
       "sys_created_at             object\n",
       "sys_updated_by             object\n",
       "sys_updated_at             object\n",
       "contact_type               object\n",
       "location                   object\n",
       "category                   object\n",
       "subcategory                object\n",
       "u_symptom                  object\n",
       "cmdb_ci                    object\n",
       "impact                     object\n",
       "urgency                    object\n",
       "priority                   object\n",
       "assignment_group           object\n",
       "assigned_to                object\n",
       "knowledge                    bool\n",
       "u_priority_confirmation      bool\n",
       "notify                     object\n",
       "problem_id                 object\n",
       "rfc                        object\n",
       "vendor                     object\n",
       "caused_by                  object\n",
       "closed_code                object\n",
       "resolved_by                object\n",
       "resolved_at                object\n",
       "closed_at                  object\n",
       "dtype: object"
      ]
     },
     "execution_count": 8,
     "metadata": {},
     "output_type": "execute_result"
    }
   ],
   "source": [
    "df.dtypes"
   ]
  },
  {
   "cell_type": "code",
   "execution_count": 9,
   "id": "2414984d",
   "metadata": {
    "pycharm": {
     "name": "#%%\n"
    }
   },
   "outputs": [],
   "source": [
    "# Label columns\n",
    "def add_prefix(df_arg):\n",
    "    for column in df_arg.columns:\n",
    "        if df_arg[column].dtype == 'object':\n",
    "            df_arg = df_arg.rename(columns={column: 'C_' + column})\n",
    "        elif df_arg[column].dtype == 'float64' or df_arg[column].dtype == 'int64':\n",
    "            df_arg = df_arg.rename(columns={column: 'N_' + column})\n",
    "        elif df_arg[column].dtype == 'bool' or df_arg[column].dtype == 'bool':\n",
    "            df_arg = df_arg.rename(columns={column: 'C_' + column})\n",
    "    return df_arg\n",
    "\n",
    "df = add_prefix(df)"
   ]
  },
  {
   "cell_type": "code",
   "execution_count": 10,
   "id": "b56ba45b",
   "metadata": {
    "pycharm": {
     "name": "#%%\n"
    }
   },
   "outputs": [],
   "source": [
    "df = df.rename(columns={'C_opened_at':'N_opened_at','C_sys_created_at':'N_sys_created_at','C_sys_updated_at':'N_sys_updated_at','C_resolved_at':'N_resolved_at','C_closed_at':'N_closed_at'})"
   ]
  },
  {
   "cell_type": "code",
   "execution_count": 11,
   "id": "2a83d24a",
   "metadata": {
    "pycharm": {
     "name": "#%%\n"
    }
   },
   "outputs": [
    {
     "data": {
      "text/html": [
       "<div>\n",
       "<style scoped>\n",
       "    .dataframe tbody tr th:only-of-type {\n",
       "        vertical-align: middle;\n",
       "    }\n",
       "\n",
       "    .dataframe tbody tr th {\n",
       "        vertical-align: top;\n",
       "    }\n",
       "\n",
       "    .dataframe thead th {\n",
       "        text-align: right;\n",
       "    }\n",
       "</style>\n",
       "<table border=\"1\" class=\"dataframe\">\n",
       "  <thead>\n",
       "    <tr style=\"text-align: right;\">\n",
       "      <th></th>\n",
       "      <th>N_opened_at</th>\n",
       "      <th>N_sys_created_at</th>\n",
       "      <th>N_sys_updated_at</th>\n",
       "      <th>N_resolved_at</th>\n",
       "      <th>N_closed_at</th>\n",
       "    </tr>\n",
       "  </thead>\n",
       "  <tbody>\n",
       "    <tr>\n",
       "      <th>0</th>\n",
       "      <td>2016-02-29 01:16:00</td>\n",
       "      <td>2016-02-29 01:23:00</td>\n",
       "      <td>2016-02-29 01:23:00</td>\n",
       "      <td>2016-02-29 11:29:00</td>\n",
       "      <td>2016-03-05 12:00:00</td>\n",
       "    </tr>\n",
       "    <tr>\n",
       "      <th>1</th>\n",
       "      <td>2016-02-29 01:16:00</td>\n",
       "      <td>2016-02-29 01:23:00</td>\n",
       "      <td>2016-02-29 08:53:00</td>\n",
       "      <td>2016-02-29 11:29:00</td>\n",
       "      <td>2016-03-05 12:00:00</td>\n",
       "    </tr>\n",
       "    <tr>\n",
       "      <th>2</th>\n",
       "      <td>2016-02-29 01:16:00</td>\n",
       "      <td>2016-02-29 01:23:00</td>\n",
       "      <td>2016-02-29 11:29:00</td>\n",
       "      <td>2016-02-29 11:29:00</td>\n",
       "      <td>2016-03-05 12:00:00</td>\n",
       "    </tr>\n",
       "    <tr>\n",
       "      <th>3</th>\n",
       "      <td>2016-02-29 01:16:00</td>\n",
       "      <td>2016-02-29 01:23:00</td>\n",
       "      <td>2016-03-05 12:00:00</td>\n",
       "      <td>2016-02-29 11:29:00</td>\n",
       "      <td>2016-03-05 12:00:00</td>\n",
       "    </tr>\n",
       "    <tr>\n",
       "      <th>4</th>\n",
       "      <td>2016-02-29 04:40:00</td>\n",
       "      <td>2016-02-29 04:57:00</td>\n",
       "      <td>2016-02-29 04:57:00</td>\n",
       "      <td>2016-03-01 09:52:00</td>\n",
       "      <td>2016-03-06 10:00:00</td>\n",
       "    </tr>\n",
       "  </tbody>\n",
       "</table>\n",
       "</div>"
      ],
      "text/plain": [
       "          N_opened_at    N_sys_created_at    N_sys_updated_at  \\\n",
       "0 2016-02-29 01:16:00 2016-02-29 01:23:00 2016-02-29 01:23:00   \n",
       "1 2016-02-29 01:16:00 2016-02-29 01:23:00 2016-02-29 08:53:00   \n",
       "2 2016-02-29 01:16:00 2016-02-29 01:23:00 2016-02-29 11:29:00   \n",
       "3 2016-02-29 01:16:00 2016-02-29 01:23:00 2016-03-05 12:00:00   \n",
       "4 2016-02-29 04:40:00 2016-02-29 04:57:00 2016-02-29 04:57:00   \n",
       "\n",
       "        N_resolved_at         N_closed_at  \n",
       "0 2016-02-29 11:29:00 2016-03-05 12:00:00  \n",
       "1 2016-02-29 11:29:00 2016-03-05 12:00:00  \n",
       "2 2016-02-29 11:29:00 2016-03-05 12:00:00  \n",
       "3 2016-02-29 11:29:00 2016-03-05 12:00:00  \n",
       "4 2016-03-01 09:52:00 2016-03-06 10:00:00  "
      ]
     },
     "execution_count": 11,
     "metadata": {},
     "output_type": "execute_result"
    }
   ],
   "source": [
    "# úprava datumových formátů\n",
    "dt_columns = ['N_opened_at','N_sys_created_at','N_sys_updated_at','N_resolved_at','N_closed_at']\n",
    "date_time = df[dt_columns]\n",
    "date_time = date_time.apply(lambda x: pd.to_datetime(x, dayfirst=True, format='%d/%m/%Y %H:%M', errors='coerce'))\n",
    "date_time.head()"
   ]
  },
  {
   "cell_type": "code",
   "execution_count": 12,
   "id": "013340a3",
   "metadata": {
    "pycharm": {
     "name": "#%%\n"
    }
   },
   "outputs": [],
   "source": [
    "df[date_time.columns] = date_time"
   ]
  },
  {
   "cell_type": "code",
   "execution_count": 13,
   "id": "653c11cd",
   "metadata": {
    "pycharm": {
     "name": "#%%\n"
    }
   },
   "outputs": [
    {
     "data": {
      "text/html": [
       "<div>\n",
       "<style scoped>\n",
       "    .dataframe tbody tr th:only-of-type {\n",
       "        vertical-align: middle;\n",
       "    }\n",
       "\n",
       "    .dataframe tbody tr th {\n",
       "        vertical-align: top;\n",
       "    }\n",
       "\n",
       "    .dataframe thead th {\n",
       "        text-align: right;\n",
       "    }\n",
       "</style>\n",
       "<table border=\"1\" class=\"dataframe\">\n",
       "  <thead>\n",
       "    <tr style=\"text-align: right;\">\n",
       "      <th></th>\n",
       "      <th>N_opened_at</th>\n",
       "      <th>N_resolved_at</th>\n",
       "      <th>T_hours</th>\n",
       "    </tr>\n",
       "  </thead>\n",
       "  <tbody>\n",
       "    <tr>\n",
       "      <th>0</th>\n",
       "      <td>2016-02-29 01:16:00</td>\n",
       "      <td>2016-02-29 11:29:00</td>\n",
       "      <td>10.216667</td>\n",
       "    </tr>\n",
       "    <tr>\n",
       "      <th>1</th>\n",
       "      <td>2016-02-29 01:16:00</td>\n",
       "      <td>2016-02-29 11:29:00</td>\n",
       "      <td>10.216667</td>\n",
       "    </tr>\n",
       "    <tr>\n",
       "      <th>2</th>\n",
       "      <td>2016-02-29 01:16:00</td>\n",
       "      <td>2016-02-29 11:29:00</td>\n",
       "      <td>10.216667</td>\n",
       "    </tr>\n",
       "    <tr>\n",
       "      <th>3</th>\n",
       "      <td>2016-02-29 01:16:00</td>\n",
       "      <td>2016-02-29 11:29:00</td>\n",
       "      <td>10.216667</td>\n",
       "    </tr>\n",
       "    <tr>\n",
       "      <th>4</th>\n",
       "      <td>2016-02-29 04:40:00</td>\n",
       "      <td>2016-03-01 09:52:00</td>\n",
       "      <td>29.200000</td>\n",
       "    </tr>\n",
       "    <tr>\n",
       "      <th>5</th>\n",
       "      <td>2016-02-29 04:40:00</td>\n",
       "      <td>2016-03-01 09:52:00</td>\n",
       "      <td>29.200000</td>\n",
       "    </tr>\n",
       "    <tr>\n",
       "      <th>6</th>\n",
       "      <td>2016-02-29 04:40:00</td>\n",
       "      <td>2016-03-01 09:52:00</td>\n",
       "      <td>29.200000</td>\n",
       "    </tr>\n",
       "    <tr>\n",
       "      <th>7</th>\n",
       "      <td>2016-02-29 04:40:00</td>\n",
       "      <td>2016-03-01 09:52:00</td>\n",
       "      <td>29.200000</td>\n",
       "    </tr>\n",
       "    <tr>\n",
       "      <th>8</th>\n",
       "      <td>2016-02-29 04:40:00</td>\n",
       "      <td>2016-03-01 09:52:00</td>\n",
       "      <td>29.200000</td>\n",
       "    </tr>\n",
       "    <tr>\n",
       "      <th>9</th>\n",
       "      <td>2016-02-29 04:40:00</td>\n",
       "      <td>2016-03-01 09:52:00</td>\n",
       "      <td>29.200000</td>\n",
       "    </tr>\n",
       "  </tbody>\n",
       "</table>\n",
       "</div>"
      ],
      "text/plain": [
       "          N_opened_at       N_resolved_at    T_hours\n",
       "0 2016-02-29 01:16:00 2016-02-29 11:29:00  10.216667\n",
       "1 2016-02-29 01:16:00 2016-02-29 11:29:00  10.216667\n",
       "2 2016-02-29 01:16:00 2016-02-29 11:29:00  10.216667\n",
       "3 2016-02-29 01:16:00 2016-02-29 11:29:00  10.216667\n",
       "4 2016-02-29 04:40:00 2016-03-01 09:52:00  29.200000\n",
       "5 2016-02-29 04:40:00 2016-03-01 09:52:00  29.200000\n",
       "6 2016-02-29 04:40:00 2016-03-01 09:52:00  29.200000\n",
       "7 2016-02-29 04:40:00 2016-03-01 09:52:00  29.200000\n",
       "8 2016-02-29 04:40:00 2016-03-01 09:52:00  29.200000\n",
       "9 2016-02-29 04:40:00 2016-03-01 09:52:00  29.200000"
      ]
     },
     "execution_count": 13,
     "metadata": {},
     "output_type": "execute_result"
    }
   ],
   "source": [
    "# Calculating the difference between resolved_at and opened_at\n",
    "df['T_hours'] = (date_time['N_resolved_at'] - date_time['N_opened_at']).dt.total_seconds() / 3600\n",
    "df[['N_opened_at', 'N_resolved_at', 'T_hours']].head(10)"
   ]
  },
  {
   "cell_type": "code",
   "execution_count": 14,
   "id": "7d1a55e8",
   "metadata": {
    "collapsed": false,
    "jupyter": {
     "outputs_hidden": false
    },
    "pycharm": {
     "name": "#%%\n"
    }
   },
   "outputs": [
    {
     "data": {
      "image/png": "[encoded data removed]",
      "text/plain": [
       "<Figure size 720x360 with 1 Axes>"
      ]
     },
     "metadata": {
      "needs_background": "light"
     },
     "output_type": "display_data"
    },
    {
     "data": {
      "text/plain": [
       "count    138571.000000\n",
       "mean        269.596262\n",
       "std         650.867377\n",
       "min           0.000000\n",
       "2.5%          0.050000\n",
       "10%           0.216667\n",
       "25%           4.066667\n",
       "50%          73.516667\n",
       "75%         262.183333\n",
       "90%         568.250000\n",
       "97.5%      2060.933333\n",
       "max        8070.166667\n",
       "Name: T_hours, dtype: float64"
      ]
     },
     "metadata": {},
     "output_type": "display_data"
    }
   ],
   "source": [
    "plt.figure(figsize=(10, 5))\n",
    "plt.hist(df['T_hours'], bins=30, color='blue')\n",
    "plt.xlabel('Days')\n",
    "plt.ylabel('Frequency')\n",
    "plt.title('Histogram of T_hours')\n",
    "\n",
    "plt.tight_layout()\n",
    "plt.show()\n",
    "\n",
    "perc = [0.025, 0.1, 0.25, 0.5, 0.75, 0.9, 0.975]\n",
    "display(df['T_hours'].describe(percentiles=perc))"
   ]
  },
  {
   "cell_type": "code",
   "execution_count": 15,
   "id": "4c1899dc",
   "metadata": {
    "collapsed": false,
    "jupyter": {
     "outputs_hidden": false
    },
    "pycharm": {
     "name": "#%%\n"
    }
   },
   "outputs": [
    {
     "data": {
      "text/plain": [
       "C_number                         0\n",
       "C_incident_state                 0\n",
       "C_active                         0\n",
       "N_reassignment_count             0\n",
       "N_reopen_count                   0\n",
       "N_sys_mod_count                  0\n",
       "C_made_sla                       0\n",
       "C_caller_id                      0\n",
       "C_opened_by                      0\n",
       "N_opened_at                      0\n",
       "C_sys_created_by                 0\n",
       "N_sys_created_at             53076\n",
       "C_sys_updated_by                 0\n",
       "N_sys_updated_at                 0\n",
       "C_contact_type                   0\n",
       "C_location                       0\n",
       "C_category                       0\n",
       "C_subcategory                    0\n",
       "C_u_symptom                      0\n",
       "C_cmdb_ci                        0\n",
       "C_impact                         0\n",
       "C_urgency                        0\n",
       "C_priority                       0\n",
       "C_assignment_group               0\n",
       "C_assigned_to                    0\n",
       "C_knowledge                      0\n",
       "C_u_priority_confirmation        0\n",
       "C_notify                         0\n",
       "C_problem_id                     0\n",
       "C_rfc                            0\n",
       "C_vendor                         0\n",
       "C_caused_by                      0\n",
       "C_closed_code                    0\n",
       "C_resolved_by                    0\n",
       "N_resolved_at                 3141\n",
       "N_closed_at                      0\n",
       "T_hours                       3141\n",
       "dtype: int64"
      ]
     },
     "execution_count": 15,
     "metadata": {},
     "output_type": "execute_result"
    }
   ],
   "source": [
    "df.isna().sum()"
   ]
  },
  {
   "cell_type": "code",
   "execution_count": 16,
   "id": "a4825bac",
   "metadata": {
    "collapsed": false,
    "jupyter": {
     "outputs_hidden": false
    },
    "pycharm": {
     "name": "#%%\n"
    }
   },
   "outputs": [
    {
     "data": {
      "text/plain": [
       "C_number                          0\n",
       "C_incident_state                  0\n",
       "C_active                          0\n",
       "N_reassignment_count              0\n",
       "N_reopen_count                    0\n",
       "N_sys_mod_count                   0\n",
       "C_made_sla                        0\n",
       "C_caller_id                      29\n",
       "C_opened_by                    4835\n",
       "N_opened_at                       0\n",
       "C_sys_created_by              53076\n",
       "N_sys_created_at                  0\n",
       "C_sys_updated_by                  0\n",
       "N_sys_updated_at                  0\n",
       "C_contact_type                    0\n",
       "C_location                       76\n",
       "C_category                       78\n",
       "C_subcategory                   111\n",
       "C_u_symptom                   32964\n",
       "C_cmdb_ci                    141267\n",
       "C_impact                          0\n",
       "C_urgency                         0\n",
       "C_priority                        0\n",
       "C_assignment_group            14213\n",
       "C_assigned_to                 27496\n",
       "C_knowledge                       0\n",
       "C_u_priority_confirmation         0\n",
       "C_notify                          0\n",
       "C_problem_id                 139417\n",
       "C_rfc                        140721\n",
       "C_vendor                     141468\n",
       "C_caused_by                  141689\n",
       "C_closed_code                   714\n",
       "C_resolved_by                   226\n",
       "N_resolved_at                     0\n",
       "N_closed_at                       0\n",
       "T_hours                           0\n",
       "dtype: int64"
      ]
     },
     "execution_count": 16,
     "metadata": {},
     "output_type": "execute_result"
    }
   ],
   "source": [
    "# Treat \"?\" as NA value\n",
    "df.apply(lambda x: x[x == \"?\"].count())"
   ]
  },
  {
   "cell_type": "code",
   "execution_count": 17,
   "id": "7e6d70d6",
   "metadata": {
    "collapsed": false,
    "jupyter": {
     "outputs_hidden": false
    },
    "pycharm": {
     "name": "#%%\n"
    }
   },
   "outputs": [
    {
     "data": {
      "text/plain": [
       "C_number                          0\n",
       "C_incident_state                  0\n",
       "C_active                          0\n",
       "N_reassignment_count              0\n",
       "N_reopen_count                    0\n",
       "N_sys_mod_count                   0\n",
       "C_made_sla                        0\n",
       "C_caller_id                      29\n",
       "C_opened_by                    4835\n",
       "N_opened_at                       0\n",
       "C_sys_created_by              53076\n",
       "N_sys_created_at              53076\n",
       "C_sys_updated_by                  0\n",
       "N_sys_updated_at                  0\n",
       "C_contact_type                    0\n",
       "C_location                       76\n",
       "C_category                       78\n",
       "C_subcategory                   111\n",
       "C_u_symptom                   32964\n",
       "C_cmdb_ci                    141267\n",
       "C_impact                          0\n",
       "C_urgency                         0\n",
       "C_priority                        0\n",
       "C_assignment_group            14213\n",
       "C_assigned_to                 27496\n",
       "C_knowledge                       0\n",
       "C_u_priority_confirmation         0\n",
       "C_notify                          0\n",
       "C_problem_id                 139417\n",
       "C_rfc                        140721\n",
       "C_vendor                     141468\n",
       "C_caused_by                  141689\n",
       "C_closed_code                   714\n",
       "C_resolved_by                   226\n",
       "N_resolved_at                  3141\n",
       "N_closed_at                       0\n",
       "T_hours                        3141\n",
       "dtype: int64"
      ]
     },
     "execution_count": 17,
     "metadata": {},
     "output_type": "execute_result"
    }
   ],
   "source": [
    "df = df.replace({'?': pd.NA})\n",
    "df.isna().sum(axis=0)"
   ]
  },
  {
   "cell_type": "markdown",
   "id": "e2e8a4e8",
   "metadata": {
    "pycharm": {
     "name": "#%% md\n"
    }
   },
   "source": [
    "## Check if incident has all events"
   ]
  },
  {
   "cell_type": "code",
   "execution_count": 18,
   "id": "90ed1425",
   "metadata": {
    "pycharm": {
     "name": "#%%\n"
    }
   },
   "outputs": [
    {
     "name": "stdout",
     "output_type": "stream",
     "text": [
      "Are the number of sys_mod_count equal to the number of rows for each closed incident?\n",
      "         C_number  incident_count  N_sys_mod_count  counts_equal\n",
      "0      INC0000045               4                5         False\n",
      "1      INC0000047               9                9          True\n",
      "2      INC0000057               7                7          True\n",
      "3      INC0000060               4                4          True\n",
      "4      INC0000062               8                8          True\n",
      "...           ...             ...              ...           ...\n",
      "24913  INC0120304               3                3          True\n",
      "24914  INC0120319               2                2          True\n",
      "24915  INC0120495               6                6          True\n",
      "24916  INC0120835               4                5         False\n",
      "24917  INC0121064               4                4          True\n",
      "\n",
      "[24918 rows x 4 columns]\n"
     ]
    }
   ],
   "source": [
    "# Group the DataFrame by the incident number and count the number of rows for each incident\n",
    "incident_counts = df.groupby('C_number').size().reset_index(name='incident_count')\n",
    "\n",
    "# Filter the DataFrame for rows where incident_state is \"closed\" and calculate the total sys_mod_count for each incident\n",
    "closed_sys_mod_counts = df[df['C_incident_state'] == 'Closed'].groupby('C_number')['N_sys_mod_count'].sum().reset_index(name='N_sys_mod_count')\n",
    "\n",
    "# Increment the sys_mod_count by 1 to account for starting at 0\n",
    "closed_sys_mod_counts['N_sys_mod_count'] += 1\n",
    "\n",
    "# Merge the incident_counts and closed_sys_mod_counts on the incident number\n",
    "merged_counts = incident_counts.merge(closed_sys_mod_counts, on='C_number')\n",
    "\n",
    "# Check if the number of sys_mod_count is equal to the number of rows for each incident\n",
    "merged_counts['counts_equal'] = merged_counts['incident_count'] == merged_counts['N_sys_mod_count']\n",
    "\n",
    "print(\"Are the number of sys_mod_count equal to the number of rows for each closed incident?\")\n",
    "print(merged_counts)"
   ]
  },
  {
   "cell_type": "markdown",
   "id": "f8de93f2",
   "metadata": {
    "pycharm": {
     "name": "#%% md\n"
    }
   },
   "source": [
    "## Check of False cases where sys_mod_count != incident_count"
   ]
  },
  {
   "cell_type": "code",
   "execution_count": 19,
   "id": "f90bf568",
   "metadata": {
    "pycharm": {
     "name": "#%%\n"
    }
   },
   "outputs": [
    {
     "data": {
      "text/html": [
       "<div>\n",
       "<style scoped>\n",
       "    .dataframe tbody tr th:only-of-type {\n",
       "        vertical-align: middle;\n",
       "    }\n",
       "\n",
       "    .dataframe tbody tr th {\n",
       "        vertical-align: top;\n",
       "    }\n",
       "\n",
       "    .dataframe thead th {\n",
       "        text-align: right;\n",
       "    }\n",
       "</style>\n",
       "<table border=\"1\" class=\"dataframe\">\n",
       "  <thead>\n",
       "    <tr style=\"text-align: right;\">\n",
       "      <th></th>\n",
       "      <th>C_number</th>\n",
       "      <th>C_incident_state</th>\n",
       "      <th>C_active</th>\n",
       "      <th>N_reassignment_count</th>\n",
       "      <th>N_reopen_count</th>\n",
       "      <th>N_sys_mod_count</th>\n",
       "      <th>C_made_sla</th>\n",
       "      <th>C_caller_id</th>\n",
       "      <th>C_opened_by</th>\n",
       "      <th>N_opened_at</th>\n",
       "      <th>...</th>\n",
       "      <th>C_notify</th>\n",
       "      <th>C_problem_id</th>\n",
       "      <th>C_rfc</th>\n",
       "      <th>C_vendor</th>\n",
       "      <th>C_caused_by</th>\n",
       "      <th>C_closed_code</th>\n",
       "      <th>C_resolved_by</th>\n",
       "      <th>N_resolved_at</th>\n",
       "      <th>N_closed_at</th>\n",
       "      <th>T_hours</th>\n",
       "    </tr>\n",
       "  </thead>\n",
       "  <tbody>\n",
       "    <tr>\n",
       "      <th>3</th>\n",
       "      <td>INC0000045</td>\n",
       "      <td>Closed</td>\n",
       "      <td>False</td>\n",
       "      <td>0</td>\n",
       "      <td>0</td>\n",
       "      <td>4</td>\n",
       "      <td>True</td>\n",
       "      <td>Caller 2403</td>\n",
       "      <td>Opened by  8</td>\n",
       "      <td>2016-02-29 01:16:00</td>\n",
       "      <td>...</td>\n",
       "      <td>Do Not Notify</td>\n",
       "      <td>&lt;NA&gt;</td>\n",
       "      <td>&lt;NA&gt;</td>\n",
       "      <td>&lt;NA&gt;</td>\n",
       "      <td>&lt;NA&gt;</td>\n",
       "      <td>code 5</td>\n",
       "      <td>Resolved by 149</td>\n",
       "      <td>2016-02-29 11:29:00</td>\n",
       "      <td>2016-03-05 12:00:00</td>\n",
       "      <td>10.216667</td>\n",
       "    </tr>\n",
       "    <tr>\n",
       "      <th>61</th>\n",
       "      <td>INC0000065</td>\n",
       "      <td>Closed</td>\n",
       "      <td>False</td>\n",
       "      <td>6</td>\n",
       "      <td>0</td>\n",
       "      <td>13</td>\n",
       "      <td>True</td>\n",
       "      <td>Caller 5323</td>\n",
       "      <td>Opened by  131</td>\n",
       "      <td>2016-02-29 07:38:00</td>\n",
       "      <td>...</td>\n",
       "      <td>Do Not Notify</td>\n",
       "      <td>&lt;NA&gt;</td>\n",
       "      <td>&lt;NA&gt;</td>\n",
       "      <td>&lt;NA&gt;</td>\n",
       "      <td>&lt;NA&gt;</td>\n",
       "      <td>code 1</td>\n",
       "      <td>Resolved by 197</td>\n",
       "      <td>2016-03-02 15:21:00</td>\n",
       "      <td>2016-03-07 16:00:00</td>\n",
       "      <td>55.716667</td>\n",
       "    </tr>\n",
       "    <tr>\n",
       "      <th>84</th>\n",
       "      <td>INC0000070</td>\n",
       "      <td>Closed</td>\n",
       "      <td>False</td>\n",
       "      <td>1</td>\n",
       "      <td>0</td>\n",
       "      <td>9</td>\n",
       "      <td>False</td>\n",
       "      <td>Caller 3757</td>\n",
       "      <td>Opened by  131</td>\n",
       "      <td>2016-02-29 08:11:00</td>\n",
       "      <td>...</td>\n",
       "      <td>Do Not Notify</td>\n",
       "      <td>&lt;NA&gt;</td>\n",
       "      <td>&lt;NA&gt;</td>\n",
       "      <td>&lt;NA&gt;</td>\n",
       "      <td>&lt;NA&gt;</td>\n",
       "      <td>code 11</td>\n",
       "      <td>Resolved by 30</td>\n",
       "      <td>2016-03-08 09:55:00</td>\n",
       "      <td>2016-03-24 18:40:00</td>\n",
       "      <td>193.733333</td>\n",
       "    </tr>\n",
       "    <tr>\n",
       "      <th>98</th>\n",
       "      <td>INC0000073</td>\n",
       "      <td>Closed</td>\n",
       "      <td>False</td>\n",
       "      <td>1</td>\n",
       "      <td>0</td>\n",
       "      <td>6</td>\n",
       "      <td>True</td>\n",
       "      <td>Caller 2519</td>\n",
       "      <td>Opened by  40</td>\n",
       "      <td>2016-02-29 08:22:00</td>\n",
       "      <td>...</td>\n",
       "      <td>Do Not Notify</td>\n",
       "      <td>Problem ID  2</td>\n",
       "      <td>&lt;NA&gt;</td>\n",
       "      <td>&lt;NA&gt;</td>\n",
       "      <td>&lt;NA&gt;</td>\n",
       "      <td>code 11</td>\n",
       "      <td>Resolved by 208</td>\n",
       "      <td>2016-03-01 15:37:00</td>\n",
       "      <td>2016-03-06 16:00:00</td>\n",
       "      <td>31.250000</td>\n",
       "    </tr>\n",
       "    <tr>\n",
       "      <th>104</th>\n",
       "      <td>INC0000074</td>\n",
       "      <td>Closed</td>\n",
       "      <td>False</td>\n",
       "      <td>0</td>\n",
       "      <td>0</td>\n",
       "      <td>19</td>\n",
       "      <td>False</td>\n",
       "      <td>Caller 527</td>\n",
       "      <td>Opened by  433</td>\n",
       "      <td>2016-02-29 08:23:00</td>\n",
       "      <td>...</td>\n",
       "      <td>Do Not Notify</td>\n",
       "      <td>&lt;NA&gt;</td>\n",
       "      <td>CHG0000404</td>\n",
       "      <td>&lt;NA&gt;</td>\n",
       "      <td>&lt;NA&gt;</td>\n",
       "      <td>code 6</td>\n",
       "      <td>Resolved by 158</td>\n",
       "      <td>2016-04-11 14:39:00</td>\n",
       "      <td>2016-04-16 15:07:00</td>\n",
       "      <td>1014.266667</td>\n",
       "    </tr>\n",
       "    <tr>\n",
       "      <th>...</th>\n",
       "      <td>...</td>\n",
       "      <td>...</td>\n",
       "      <td>...</td>\n",
       "      <td>...</td>\n",
       "      <td>...</td>\n",
       "      <td>...</td>\n",
       "      <td>...</td>\n",
       "      <td>...</td>\n",
       "      <td>...</td>\n",
       "      <td>...</td>\n",
       "      <td>...</td>\n",
       "      <td>...</td>\n",
       "      <td>...</td>\n",
       "      <td>...</td>\n",
       "      <td>...</td>\n",
       "      <td>...</td>\n",
       "      <td>...</td>\n",
       "      <td>...</td>\n",
       "      <td>...</td>\n",
       "      <td>...</td>\n",
       "      <td>...</td>\n",
       "    </tr>\n",
       "    <tr>\n",
       "      <th>141492</th>\n",
       "      <td>INC0114952</td>\n",
       "      <td>Closed</td>\n",
       "      <td>False</td>\n",
       "      <td>1</td>\n",
       "      <td>0</td>\n",
       "      <td>5</td>\n",
       "      <td>False</td>\n",
       "      <td>Caller 4426</td>\n",
       "      <td>Opened by  435</td>\n",
       "      <td>2017-01-31 22:36:00</td>\n",
       "      <td>...</td>\n",
       "      <td>Do Not Notify</td>\n",
       "      <td>&lt;NA&gt;</td>\n",
       "      <td>&lt;NA&gt;</td>\n",
       "      <td>&lt;NA&gt;</td>\n",
       "      <td>&lt;NA&gt;</td>\n",
       "      <td>code 7</td>\n",
       "      <td>Resolved by 8</td>\n",
       "      <td>2017-02-09 14:24:00</td>\n",
       "      <td>2017-02-14 15:00:00</td>\n",
       "      <td>207.800000</td>\n",
       "    </tr>\n",
       "    <tr>\n",
       "      <th>141567</th>\n",
       "      <td>INC0115739</td>\n",
       "      <td>Closed</td>\n",
       "      <td>False</td>\n",
       "      <td>0</td>\n",
       "      <td>0</td>\n",
       "      <td>4</td>\n",
       "      <td>False</td>\n",
       "      <td>Caller 2503</td>\n",
       "      <td>Opened by  239</td>\n",
       "      <td>2017-02-02 11:41:00</td>\n",
       "      <td>...</td>\n",
       "      <td>Do Not Notify</td>\n",
       "      <td>&lt;NA&gt;</td>\n",
       "      <td>&lt;NA&gt;</td>\n",
       "      <td>&lt;NA&gt;</td>\n",
       "      <td>&lt;NA&gt;</td>\n",
       "      <td>code 7</td>\n",
       "      <td>Resolved by 112</td>\n",
       "      <td>2017-02-08 09:27:00</td>\n",
       "      <td>2017-02-13 10:00:00</td>\n",
       "      <td>141.766667</td>\n",
       "    </tr>\n",
       "    <tr>\n",
       "      <th>141570</th>\n",
       "      <td>INC0115743</td>\n",
       "      <td>Closed</td>\n",
       "      <td>False</td>\n",
       "      <td>0</td>\n",
       "      <td>0</td>\n",
       "      <td>4</td>\n",
       "      <td>False</td>\n",
       "      <td>Caller 2503</td>\n",
       "      <td>Opened by  239</td>\n",
       "      <td>2017-02-02 11:44:00</td>\n",
       "      <td>...</td>\n",
       "      <td>Do Not Notify</td>\n",
       "      <td>&lt;NA&gt;</td>\n",
       "      <td>&lt;NA&gt;</td>\n",
       "      <td>&lt;NA&gt;</td>\n",
       "      <td>&lt;NA&gt;</td>\n",
       "      <td>code 6</td>\n",
       "      <td>Resolved by 112</td>\n",
       "      <td>2017-02-08 09:43:00</td>\n",
       "      <td>2017-02-13 10:00:00</td>\n",
       "      <td>141.983333</td>\n",
       "    </tr>\n",
       "    <tr>\n",
       "      <th>141669</th>\n",
       "      <td>INC0118999</td>\n",
       "      <td>Closed</td>\n",
       "      <td>False</td>\n",
       "      <td>0</td>\n",
       "      <td>0</td>\n",
       "      <td>6</td>\n",
       "      <td>True</td>\n",
       "      <td>Caller 2058</td>\n",
       "      <td>Opened by  194</td>\n",
       "      <td>2017-02-10 15:55:00</td>\n",
       "      <td>...</td>\n",
       "      <td>Do Not Notify</td>\n",
       "      <td>&lt;NA&gt;</td>\n",
       "      <td>&lt;NA&gt;</td>\n",
       "      <td>&lt;NA&gt;</td>\n",
       "      <td>&lt;NA&gt;</td>\n",
       "      <td>code 6</td>\n",
       "      <td>Resolved by 110</td>\n",
       "      <td>2017-02-10 16:35:00</td>\n",
       "      <td>2017-02-15 17:00:00</td>\n",
       "      <td>0.666667</td>\n",
       "    </tr>\n",
       "    <tr>\n",
       "      <th>141707</th>\n",
       "      <td>INC0120835</td>\n",
       "      <td>Closed</td>\n",
       "      <td>False</td>\n",
       "      <td>1</td>\n",
       "      <td>0</td>\n",
       "      <td>4</td>\n",
       "      <td>True</td>\n",
       "      <td>Caller 116</td>\n",
       "      <td>Opened by  12</td>\n",
       "      <td>2017-02-16 09:09:00</td>\n",
       "      <td>...</td>\n",
       "      <td>Do Not Notify</td>\n",
       "      <td>&lt;NA&gt;</td>\n",
       "      <td>&lt;NA&gt;</td>\n",
       "      <td>&lt;NA&gt;</td>\n",
       "      <td>&lt;NA&gt;</td>\n",
       "      <td>code 9</td>\n",
       "      <td>Resolved by 9</td>\n",
       "      <td>2017-02-16 09:53:00</td>\n",
       "      <td>2017-02-16 09:53:00</td>\n",
       "      <td>0.733333</td>\n",
       "    </tr>\n",
       "  </tbody>\n",
       "</table>\n",
       "<p>9337 rows × 37 columns</p>\n",
       "</div>"
      ],
      "text/plain": [
       "          C_number C_incident_state  C_active  N_reassignment_count  \\\n",
       "3       INC0000045           Closed     False                     0   \n",
       "61      INC0000065           Closed     False                     6   \n",
       "84      INC0000070           Closed     False                     1   \n",
       "98      INC0000073           Closed     False                     1   \n",
       "104     INC0000074           Closed     False                     0   \n",
       "...            ...              ...       ...                   ...   \n",
       "141492  INC0114952           Closed     False                     1   \n",
       "141567  INC0115739           Closed     False                     0   \n",
       "141570  INC0115743           Closed     False                     0   \n",
       "141669  INC0118999           Closed     False                     0   \n",
       "141707  INC0120835           Closed     False                     1   \n",
       "\n",
       "        N_reopen_count  N_sys_mod_count  C_made_sla  C_caller_id  \\\n",
       "3                    0                4        True  Caller 2403   \n",
       "61                   0               13        True  Caller 5323   \n",
       "84                   0                9       False  Caller 3757   \n",
       "98                   0                6        True  Caller 2519   \n",
       "104                  0               19       False   Caller 527   \n",
       "...                ...              ...         ...          ...   \n",
       "141492               0                5       False  Caller 4426   \n",
       "141567               0                4       False  Caller 2503   \n",
       "141570               0                4       False  Caller 2503   \n",
       "141669               0                6        True  Caller 2058   \n",
       "141707               0                4        True   Caller 116   \n",
       "\n",
       "           C_opened_by         N_opened_at  ...       C_notify   C_problem_id  \\\n",
       "3         Opened by  8 2016-02-29 01:16:00  ...  Do Not Notify           <NA>   \n",
       "61      Opened by  131 2016-02-29 07:38:00  ...  Do Not Notify           <NA>   \n",
       "84      Opened by  131 2016-02-29 08:11:00  ...  Do Not Notify           <NA>   \n",
       "98       Opened by  40 2016-02-29 08:22:00  ...  Do Not Notify  Problem ID  2   \n",
       "104     Opened by  433 2016-02-29 08:23:00  ...  Do Not Notify           <NA>   \n",
       "...                ...                 ...  ...            ...            ...   \n",
       "141492  Opened by  435 2017-01-31 22:36:00  ...  Do Not Notify           <NA>   \n",
       "141567  Opened by  239 2017-02-02 11:41:00  ...  Do Not Notify           <NA>   \n",
       "141570  Opened by  239 2017-02-02 11:44:00  ...  Do Not Notify           <NA>   \n",
       "141669  Opened by  194 2017-02-10 15:55:00  ...  Do Not Notify           <NA>   \n",
       "141707   Opened by  12 2017-02-16 09:09:00  ...  Do Not Notify           <NA>   \n",
       "\n",
       "             C_rfc C_vendor C_caused_by C_closed_code    C_resolved_by  \\\n",
       "3             <NA>     <NA>        <NA>        code 5  Resolved by 149   \n",
       "61            <NA>     <NA>        <NA>        code 1  Resolved by 197   \n",
       "84            <NA>     <NA>        <NA>       code 11   Resolved by 30   \n",
       "98            <NA>     <NA>        <NA>       code 11  Resolved by 208   \n",
       "104     CHG0000404     <NA>        <NA>        code 6  Resolved by 158   \n",
       "...            ...      ...         ...           ...              ...   \n",
       "141492        <NA>     <NA>        <NA>        code 7    Resolved by 8   \n",
       "141567        <NA>     <NA>        <NA>        code 7  Resolved by 112   \n",
       "141570        <NA>     <NA>        <NA>        code 6  Resolved by 112   \n",
       "141669        <NA>     <NA>        <NA>        code 6  Resolved by 110   \n",
       "141707        <NA>     <NA>        <NA>        code 9    Resolved by 9   \n",
       "\n",
       "             N_resolved_at         N_closed_at      T_hours  \n",
       "3      2016-02-29 11:29:00 2016-03-05 12:00:00    10.216667  \n",
       "61     2016-03-02 15:21:00 2016-03-07 16:00:00    55.716667  \n",
       "84     2016-03-08 09:55:00 2016-03-24 18:40:00   193.733333  \n",
       "98     2016-03-01 15:37:00 2016-03-06 16:00:00    31.250000  \n",
       "104    2016-04-11 14:39:00 2016-04-16 15:07:00  1014.266667  \n",
       "...                    ...                 ...          ...  \n",
       "141492 2017-02-09 14:24:00 2017-02-14 15:00:00   207.800000  \n",
       "141567 2017-02-08 09:27:00 2017-02-13 10:00:00   141.766667  \n",
       "141570 2017-02-08 09:43:00 2017-02-13 10:00:00   141.983333  \n",
       "141669 2017-02-10 16:35:00 2017-02-15 17:00:00     0.666667  \n",
       "141707 2017-02-16 09:53:00 2017-02-16 09:53:00     0.733333  \n",
       "\n",
       "[9337 rows x 37 columns]"
      ]
     },
     "execution_count": 19,
     "metadata": {},
     "output_type": "execute_result"
    }
   ],
   "source": [
    "false_df = df[df['C_number'].isin(merged_counts[merged_counts['counts_equal'] == False]['C_number'])]\n",
    "false_df = false_df[false_df['C_incident_state'] == 'Closed']\n",
    "false_df"
   ]
  },
  {
   "cell_type": "code",
   "execution_count": 20,
   "id": "faace2d0",
   "metadata": {
    "pycharm": {
     "name": "#%%\n"
    }
   },
   "outputs": [
    {
     "data": {
      "text/html": [
       "<div>\n",
       "<style scoped>\n",
       "    .dataframe tbody tr th:only-of-type {\n",
       "        vertical-align: middle;\n",
       "    }\n",
       "\n",
       "    .dataframe tbody tr th {\n",
       "        vertical-align: top;\n",
       "    }\n",
       "\n",
       "    .dataframe thead th {\n",
       "        text-align: right;\n",
       "    }\n",
       "</style>\n",
       "<table border=\"1\" class=\"dataframe\">\n",
       "  <thead>\n",
       "    <tr style=\"text-align: right;\">\n",
       "      <th></th>\n",
       "      <th>N_reassignment_count</th>\n",
       "      <th>N_reopen_count</th>\n",
       "      <th>N_sys_mod_count</th>\n",
       "      <th>T_hours</th>\n",
       "    </tr>\n",
       "  </thead>\n",
       "  <tbody>\n",
       "    <tr>\n",
       "      <th>count</th>\n",
       "      <td>9337.000000</td>\n",
       "      <td>9337.000000</td>\n",
       "      <td>9337.000000</td>\n",
       "      <td>9326.000000</td>\n",
       "    </tr>\n",
       "    <tr>\n",
       "      <th>mean</th>\n",
       "      <td>1.689622</td>\n",
       "      <td>0.029881</td>\n",
       "      <td>12.296883</td>\n",
       "      <td>419.878453</td>\n",
       "    </tr>\n",
       "    <tr>\n",
       "      <th>std</th>\n",
       "      <td>2.068103</td>\n",
       "      <td>0.229718</td>\n",
       "      <td>11.695999</td>\n",
       "      <td>782.451819</td>\n",
       "    </tr>\n",
       "    <tr>\n",
       "      <th>min</th>\n",
       "      <td>0.000000</td>\n",
       "      <td>0.000000</td>\n",
       "      <td>1.000000</td>\n",
       "      <td>0.000000</td>\n",
       "    </tr>\n",
       "    <tr>\n",
       "      <th>25%</th>\n",
       "      <td>0.000000</td>\n",
       "      <td>0.000000</td>\n",
       "      <td>6.000000</td>\n",
       "      <td>94.970833</td>\n",
       "    </tr>\n",
       "    <tr>\n",
       "      <th>50%</th>\n",
       "      <td>1.000000</td>\n",
       "      <td>0.000000</td>\n",
       "      <td>9.000000</td>\n",
       "      <td>192.200000</td>\n",
       "    </tr>\n",
       "    <tr>\n",
       "      <th>75%</th>\n",
       "      <td>2.000000</td>\n",
       "      <td>0.000000</td>\n",
       "      <td>14.000000</td>\n",
       "      <td>378.095833</td>\n",
       "    </tr>\n",
       "    <tr>\n",
       "      <th>max</th>\n",
       "      <td>27.000000</td>\n",
       "      <td>8.000000</td>\n",
       "      <td>129.000000</td>\n",
       "      <td>8070.166667</td>\n",
       "    </tr>\n",
       "  </tbody>\n",
       "</table>\n",
       "</div>"
      ],
      "text/plain": [
       "       N_reassignment_count  N_reopen_count  N_sys_mod_count      T_hours\n",
       "count           9337.000000     9337.000000      9337.000000  9326.000000\n",
       "mean               1.689622        0.029881        12.296883   419.878453\n",
       "std                2.068103        0.229718        11.695999   782.451819\n",
       "min                0.000000        0.000000         1.000000     0.000000\n",
       "25%                0.000000        0.000000         6.000000    94.970833\n",
       "50%                1.000000        0.000000         9.000000   192.200000\n",
       "75%                2.000000        0.000000        14.000000   378.095833\n",
       "max               27.000000        8.000000       129.000000  8070.166667"
      ]
     },
     "execution_count": 20,
     "metadata": {},
     "output_type": "execute_result"
    }
   ],
   "source": [
    "false_df.describe()"
   ]
  },
  {
   "cell_type": "code",
   "execution_count": 21,
   "id": "76e8c8e0",
   "metadata": {
    "pycharm": {
     "name": "#%%\n"
    }
   },
   "outputs": [
    {
     "name": "stdout",
     "output_type": "stream",
     "text": [
      "Counts of True and False values in counts_equal:\n",
      "True     15648\n",
      "False     9270\n",
      "Name: counts_equal, dtype: int64\n"
     ]
    }
   ],
   "source": [
    "counts_equal_sum = merged_counts['counts_equal'].value_counts()\n",
    "\n",
    "print(\"Counts of True and False values in counts_equal:\")\n",
    "print(counts_equal_sum)"
   ]
  },
  {
   "cell_type": "markdown",
   "id": "3598480d",
   "metadata": {
    "pycharm": {
     "name": "#%% md\n"
    }
   },
   "source": [
    "## New df only with incidents with not missing events"
   ]
  },
  {
   "cell_type": "code",
   "execution_count": 22,
   "id": "c8ac326d",
   "metadata": {
    "pycharm": {
     "name": "#%%\n"
    }
   },
   "outputs": [],
   "source": [
    "df = df[df['C_number'].isin(merged_counts[merged_counts['counts_equal'] == True]['C_number'])]"
   ]
  },
  {
   "cell_type": "code",
   "execution_count": 23,
   "id": "63abc066",
   "metadata": {
    "pycharm": {
     "name": "#%%\n"
    }
   },
   "outputs": [
    {
     "data": {
      "text/html": [
       "<div>\n",
       "<style scoped>\n",
       "    .dataframe tbody tr th:only-of-type {\n",
       "        vertical-align: middle;\n",
       "    }\n",
       "\n",
       "    .dataframe tbody tr th {\n",
       "        vertical-align: top;\n",
       "    }\n",
       "\n",
       "    .dataframe thead th {\n",
       "        text-align: right;\n",
       "    }\n",
       "</style>\n",
       "<table border=\"1\" class=\"dataframe\">\n",
       "  <thead>\n",
       "    <tr style=\"text-align: right;\">\n",
       "      <th></th>\n",
       "      <th>C_number</th>\n",
       "      <th>C_incident_state</th>\n",
       "      <th>C_active</th>\n",
       "      <th>N_reassignment_count</th>\n",
       "      <th>N_reopen_count</th>\n",
       "      <th>N_sys_mod_count</th>\n",
       "      <th>C_made_sla</th>\n",
       "      <th>C_caller_id</th>\n",
       "      <th>C_opened_by</th>\n",
       "      <th>N_opened_at</th>\n",
       "      <th>...</th>\n",
       "      <th>C_notify</th>\n",
       "      <th>C_problem_id</th>\n",
       "      <th>C_rfc</th>\n",
       "      <th>C_vendor</th>\n",
       "      <th>C_caused_by</th>\n",
       "      <th>C_closed_code</th>\n",
       "      <th>C_resolved_by</th>\n",
       "      <th>N_resolved_at</th>\n",
       "      <th>N_closed_at</th>\n",
       "      <th>T_hours</th>\n",
       "    </tr>\n",
       "  </thead>\n",
       "  <tbody>\n",
       "    <tr>\n",
       "      <th>12</th>\n",
       "      <td>INC0000047</td>\n",
       "      <td>Closed</td>\n",
       "      <td>False</td>\n",
       "      <td>1</td>\n",
       "      <td>0</td>\n",
       "      <td>8</td>\n",
       "      <td>True</td>\n",
       "      <td>Caller 2403</td>\n",
       "      <td>Opened by  397</td>\n",
       "      <td>2016-02-29 04:40:00</td>\n",
       "      <td>...</td>\n",
       "      <td>Do Not Notify</td>\n",
       "      <td>&lt;NA&gt;</td>\n",
       "      <td>&lt;NA&gt;</td>\n",
       "      <td>&lt;NA&gt;</td>\n",
       "      <td>&lt;NA&gt;</td>\n",
       "      <td>code 5</td>\n",
       "      <td>Resolved by 81</td>\n",
       "      <td>2016-03-01 09:52:00</td>\n",
       "      <td>2016-03-06 10:00:00</td>\n",
       "      <td>29.200000</td>\n",
       "    </tr>\n",
       "    <tr>\n",
       "      <th>19</th>\n",
       "      <td>INC0000057</td>\n",
       "      <td>Closed</td>\n",
       "      <td>False</td>\n",
       "      <td>0</td>\n",
       "      <td>0</td>\n",
       "      <td>6</td>\n",
       "      <td>True</td>\n",
       "      <td>Caller 4416</td>\n",
       "      <td>Opened by  8</td>\n",
       "      <td>2016-02-29 06:10:00</td>\n",
       "      <td>...</td>\n",
       "      <td>Do Not Notify</td>\n",
       "      <td>Problem ID  2</td>\n",
       "      <td>&lt;NA&gt;</td>\n",
       "      <td>&lt;NA&gt;</td>\n",
       "      <td>&lt;NA&gt;</td>\n",
       "      <td>code 10</td>\n",
       "      <td>Resolved by 5</td>\n",
       "      <td>2016-03-01 02:55:00</td>\n",
       "      <td>2016-03-06 03:00:00</td>\n",
       "      <td>20.750000</td>\n",
       "    </tr>\n",
       "    <tr>\n",
       "      <th>23</th>\n",
       "      <td>INC0000060</td>\n",
       "      <td>Closed</td>\n",
       "      <td>False</td>\n",
       "      <td>0</td>\n",
       "      <td>0</td>\n",
       "      <td>3</td>\n",
       "      <td>True</td>\n",
       "      <td>Caller 4491</td>\n",
       "      <td>Opened by  180</td>\n",
       "      <td>2016-02-29 06:38:00</td>\n",
       "      <td>...</td>\n",
       "      <td>Do Not Notify</td>\n",
       "      <td>&lt;NA&gt;</td>\n",
       "      <td>&lt;NA&gt;</td>\n",
       "      <td>&lt;NA&gt;</td>\n",
       "      <td>&lt;NA&gt;</td>\n",
       "      <td>code 3</td>\n",
       "      <td>Resolved by 113</td>\n",
       "      <td>2016-03-02 12:06:00</td>\n",
       "      <td>2016-03-07 13:00:00</td>\n",
       "      <td>53.466667</td>\n",
       "    </tr>\n",
       "    <tr>\n",
       "      <th>31</th>\n",
       "      <td>INC0000062</td>\n",
       "      <td>Closed</td>\n",
       "      <td>False</td>\n",
       "      <td>1</td>\n",
       "      <td>0</td>\n",
       "      <td>7</td>\n",
       "      <td>False</td>\n",
       "      <td>Caller 3765</td>\n",
       "      <td>Opened by  180</td>\n",
       "      <td>2016-02-29 06:58:00</td>\n",
       "      <td>...</td>\n",
       "      <td>Do Not Notify</td>\n",
       "      <td>&lt;NA&gt;</td>\n",
       "      <td>&lt;NA&gt;</td>\n",
       "      <td>&lt;NA&gt;</td>\n",
       "      <td>&lt;NA&gt;</td>\n",
       "      <td>code 7</td>\n",
       "      <td>Resolved by 62</td>\n",
       "      <td>2016-02-29 15:51:00</td>\n",
       "      <td>2016-03-05 16:00:00</td>\n",
       "      <td>8.883333</td>\n",
       "    </tr>\n",
       "    <tr>\n",
       "      <th>39</th>\n",
       "      <td>INC0000063</td>\n",
       "      <td>Closed</td>\n",
       "      <td>False</td>\n",
       "      <td>1</td>\n",
       "      <td>0</td>\n",
       "      <td>7</td>\n",
       "      <td>True</td>\n",
       "      <td>Caller 2146</td>\n",
       "      <td>Opened by  180</td>\n",
       "      <td>2016-02-29 07:08:00</td>\n",
       "      <td>...</td>\n",
       "      <td>Do Not Notify</td>\n",
       "      <td>&lt;NA&gt;</td>\n",
       "      <td>&lt;NA&gt;</td>\n",
       "      <td>&lt;NA&gt;</td>\n",
       "      <td>&lt;NA&gt;</td>\n",
       "      <td>code 7</td>\n",
       "      <td>Resolved by 62</td>\n",
       "      <td>2016-02-29 16:01:00</td>\n",
       "      <td>2016-03-05 17:00:00</td>\n",
       "      <td>8.883333</td>\n",
       "    </tr>\n",
       "    <tr>\n",
       "      <th>...</th>\n",
       "      <td>...</td>\n",
       "      <td>...</td>\n",
       "      <td>...</td>\n",
       "      <td>...</td>\n",
       "      <td>...</td>\n",
       "      <td>...</td>\n",
       "      <td>...</td>\n",
       "      <td>...</td>\n",
       "      <td>...</td>\n",
       "      <td>...</td>\n",
       "      <td>...</td>\n",
       "      <td>...</td>\n",
       "      <td>...</td>\n",
       "      <td>...</td>\n",
       "      <td>...</td>\n",
       "      <td>...</td>\n",
       "      <td>...</td>\n",
       "      <td>...</td>\n",
       "      <td>...</td>\n",
       "      <td>...</td>\n",
       "      <td>...</td>\n",
       "    </tr>\n",
       "    <tr>\n",
       "      <th>141692</th>\n",
       "      <td>INC0120303</td>\n",
       "      <td>Closed</td>\n",
       "      <td>False</td>\n",
       "      <td>0</td>\n",
       "      <td>0</td>\n",
       "      <td>1</td>\n",
       "      <td>True</td>\n",
       "      <td>Caller 1866</td>\n",
       "      <td>Opened by  508</td>\n",
       "      <td>2017-02-15 01:52:00</td>\n",
       "      <td>...</td>\n",
       "      <td>Do Not Notify</td>\n",
       "      <td>&lt;NA&gt;</td>\n",
       "      <td>&lt;NA&gt;</td>\n",
       "      <td>&lt;NA&gt;</td>\n",
       "      <td>&lt;NA&gt;</td>\n",
       "      <td>code 6</td>\n",
       "      <td>&lt;NA&gt;</td>\n",
       "      <td>NaT</td>\n",
       "      <td>2017-02-15 01:52:00</td>\n",
       "      <td>NaN</td>\n",
       "    </tr>\n",
       "    <tr>\n",
       "      <th>141695</th>\n",
       "      <td>INC0120304</td>\n",
       "      <td>Closed</td>\n",
       "      <td>False</td>\n",
       "      <td>0</td>\n",
       "      <td>0</td>\n",
       "      <td>2</td>\n",
       "      <td>True</td>\n",
       "      <td>Caller 90</td>\n",
       "      <td>Opened by  8</td>\n",
       "      <td>2017-02-15 02:02:00</td>\n",
       "      <td>...</td>\n",
       "      <td>Do Not Notify</td>\n",
       "      <td>&lt;NA&gt;</td>\n",
       "      <td>&lt;NA&gt;</td>\n",
       "      <td>&lt;NA&gt;</td>\n",
       "      <td>&lt;NA&gt;</td>\n",
       "      <td>code 6</td>\n",
       "      <td>Resolved by 5</td>\n",
       "      <td>2017-02-17 00:47:00</td>\n",
       "      <td>2017-02-17 00:50:00</td>\n",
       "      <td>46.750000</td>\n",
       "    </tr>\n",
       "    <tr>\n",
       "      <th>141697</th>\n",
       "      <td>INC0120319</td>\n",
       "      <td>Closed</td>\n",
       "      <td>False</td>\n",
       "      <td>0</td>\n",
       "      <td>0</td>\n",
       "      <td>1</td>\n",
       "      <td>True</td>\n",
       "      <td>Caller 1899</td>\n",
       "      <td>Opened by  508</td>\n",
       "      <td>2017-02-15 07:09:00</td>\n",
       "      <td>...</td>\n",
       "      <td>Do Not Notify</td>\n",
       "      <td>&lt;NA&gt;</td>\n",
       "      <td>&lt;NA&gt;</td>\n",
       "      <td>&lt;NA&gt;</td>\n",
       "      <td>&lt;NA&gt;</td>\n",
       "      <td>code 6</td>\n",
       "      <td>&lt;NA&gt;</td>\n",
       "      <td>NaT</td>\n",
       "      <td>2017-02-15 07:09:00</td>\n",
       "      <td>NaN</td>\n",
       "    </tr>\n",
       "    <tr>\n",
       "      <th>141703</th>\n",
       "      <td>INC0120495</td>\n",
       "      <td>Closed</td>\n",
       "      <td>False</td>\n",
       "      <td>1</td>\n",
       "      <td>0</td>\n",
       "      <td>5</td>\n",
       "      <td>True</td>\n",
       "      <td>Caller 323</td>\n",
       "      <td>Opened by  14</td>\n",
       "      <td>2017-02-15 11:58:00</td>\n",
       "      <td>...</td>\n",
       "      <td>Do Not Notify</td>\n",
       "      <td>&lt;NA&gt;</td>\n",
       "      <td>&lt;NA&gt;</td>\n",
       "      <td>&lt;NA&gt;</td>\n",
       "      <td>&lt;NA&gt;</td>\n",
       "      <td>&lt;NA&gt;</td>\n",
       "      <td>&lt;NA&gt;</td>\n",
       "      <td>NaT</td>\n",
       "      <td>2017-02-16 09:51:00</td>\n",
       "      <td>NaN</td>\n",
       "    </tr>\n",
       "    <tr>\n",
       "      <th>141711</th>\n",
       "      <td>INC0121064</td>\n",
       "      <td>Closed</td>\n",
       "      <td>False</td>\n",
       "      <td>1</td>\n",
       "      <td>0</td>\n",
       "      <td>3</td>\n",
       "      <td>True</td>\n",
       "      <td>Caller 116</td>\n",
       "      <td>Opened by  12</td>\n",
       "      <td>2017-02-16 14:17:00</td>\n",
       "      <td>...</td>\n",
       "      <td>Do Not Notify</td>\n",
       "      <td>&lt;NA&gt;</td>\n",
       "      <td>&lt;NA&gt;</td>\n",
       "      <td>&lt;NA&gt;</td>\n",
       "      <td>&lt;NA&gt;</td>\n",
       "      <td>code 6</td>\n",
       "      <td>Resolved by 9</td>\n",
       "      <td>2017-02-16 16:38:00</td>\n",
       "      <td>2017-02-16 16:38:00</td>\n",
       "      <td>2.350000</td>\n",
       "    </tr>\n",
       "  </tbody>\n",
       "</table>\n",
       "<p>15648 rows × 37 columns</p>\n",
       "</div>"
      ],
      "text/plain": [
       "          C_number C_incident_state  C_active  N_reassignment_count  \\\n",
       "12      INC0000047           Closed     False                     1   \n",
       "19      INC0000057           Closed     False                     0   \n",
       "23      INC0000060           Closed     False                     0   \n",
       "31      INC0000062           Closed     False                     1   \n",
       "39      INC0000063           Closed     False                     1   \n",
       "...            ...              ...       ...                   ...   \n",
       "141692  INC0120303           Closed     False                     0   \n",
       "141695  INC0120304           Closed     False                     0   \n",
       "141697  INC0120319           Closed     False                     0   \n",
       "141703  INC0120495           Closed     False                     1   \n",
       "141711  INC0121064           Closed     False                     1   \n",
       "\n",
       "        N_reopen_count  N_sys_mod_count  C_made_sla  C_caller_id  \\\n",
       "12                   0                8        True  Caller 2403   \n",
       "19                   0                6        True  Caller 4416   \n",
       "23                   0                3        True  Caller 4491   \n",
       "31                   0                7       False  Caller 3765   \n",
       "39                   0                7        True  Caller 2146   \n",
       "...                ...              ...         ...          ...   \n",
       "141692               0                1        True  Caller 1866   \n",
       "141695               0                2        True    Caller 90   \n",
       "141697               0                1        True  Caller 1899   \n",
       "141703               0                5        True   Caller 323   \n",
       "141711               0                3        True   Caller 116   \n",
       "\n",
       "           C_opened_by         N_opened_at  ...       C_notify   C_problem_id  \\\n",
       "12      Opened by  397 2016-02-29 04:40:00  ...  Do Not Notify           <NA>   \n",
       "19        Opened by  8 2016-02-29 06:10:00  ...  Do Not Notify  Problem ID  2   \n",
       "23      Opened by  180 2016-02-29 06:38:00  ...  Do Not Notify           <NA>   \n",
       "31      Opened by  180 2016-02-29 06:58:00  ...  Do Not Notify           <NA>   \n",
       "39      Opened by  180 2016-02-29 07:08:00  ...  Do Not Notify           <NA>   \n",
       "...                ...                 ...  ...            ...            ...   \n",
       "141692  Opened by  508 2017-02-15 01:52:00  ...  Do Not Notify           <NA>   \n",
       "141695    Opened by  8 2017-02-15 02:02:00  ...  Do Not Notify           <NA>   \n",
       "141697  Opened by  508 2017-02-15 07:09:00  ...  Do Not Notify           <NA>   \n",
       "141703   Opened by  14 2017-02-15 11:58:00  ...  Do Not Notify           <NA>   \n",
       "141711   Opened by  12 2017-02-16 14:17:00  ...  Do Not Notify           <NA>   \n",
       "\n",
       "       C_rfc C_vendor C_caused_by C_closed_code    C_resolved_by  \\\n",
       "12      <NA>     <NA>        <NA>        code 5   Resolved by 81   \n",
       "19      <NA>     <NA>        <NA>       code 10    Resolved by 5   \n",
       "23      <NA>     <NA>        <NA>        code 3  Resolved by 113   \n",
       "31      <NA>     <NA>        <NA>        code 7   Resolved by 62   \n",
       "39      <NA>     <NA>        <NA>        code 7   Resolved by 62   \n",
       "...      ...      ...         ...           ...              ...   \n",
       "141692  <NA>     <NA>        <NA>        code 6             <NA>   \n",
       "141695  <NA>     <NA>        <NA>        code 6    Resolved by 5   \n",
       "141697  <NA>     <NA>        <NA>        code 6             <NA>   \n",
       "141703  <NA>     <NA>        <NA>          <NA>             <NA>   \n",
       "141711  <NA>     <NA>        <NA>        code 6    Resolved by 9   \n",
       "\n",
       "             N_resolved_at         N_closed_at    T_hours  \n",
       "12     2016-03-01 09:52:00 2016-03-06 10:00:00  29.200000  \n",
       "19     2016-03-01 02:55:00 2016-03-06 03:00:00  20.750000  \n",
       "23     2016-03-02 12:06:00 2016-03-07 13:00:00  53.466667  \n",
       "31     2016-02-29 15:51:00 2016-03-05 16:00:00   8.883333  \n",
       "39     2016-02-29 16:01:00 2016-03-05 17:00:00   8.883333  \n",
       "...                    ...                 ...        ...  \n",
       "141692                 NaT 2017-02-15 01:52:00        NaN  \n",
       "141695 2017-02-17 00:47:00 2017-02-17 00:50:00  46.750000  \n",
       "141697                 NaT 2017-02-15 07:09:00        NaN  \n",
       "141703                 NaT 2017-02-16 09:51:00        NaN  \n",
       "141711 2017-02-16 16:38:00 2017-02-16 16:38:00   2.350000  \n",
       "\n",
       "[15648 rows x 37 columns]"
      ]
     },
     "execution_count": 23,
     "metadata": {},
     "output_type": "execute_result"
    }
   ],
   "source": [
    "# Jeden incident je řešen na 1-37 řádcích. Pro naše účely bychom zvali jen incidenty, které mají hodnotu v C_incident_state - closed\n",
    "# U všech fází incidentů je stejný začátek N_sys_updated_at\n",
    "df = df[df['C_incident_state'] == 'Closed']\n",
    "df"
   ]
  },
  {
   "cell_type": "code",
   "execution_count": 24,
   "id": "4e7455eb",
   "metadata": {
    "pycharm": {
     "name": "#%%\n"
    }
   },
   "outputs": [
    {
     "data": {
      "text/html": [
       "<div>\n",
       "<style scoped>\n",
       "    .dataframe tbody tr th:only-of-type {\n",
       "        vertical-align: middle;\n",
       "    }\n",
       "\n",
       "    .dataframe tbody tr th {\n",
       "        vertical-align: top;\n",
       "    }\n",
       "\n",
       "    .dataframe thead th {\n",
       "        text-align: right;\n",
       "    }\n",
       "</style>\n",
       "<table border=\"1\" class=\"dataframe\">\n",
       "  <thead>\n",
       "    <tr style=\"text-align: right;\">\n",
       "      <th></th>\n",
       "      <th>N_reassignment_count</th>\n",
       "      <th>N_reopen_count</th>\n",
       "      <th>N_sys_mod_count</th>\n",
       "      <th>T_hours</th>\n",
       "    </tr>\n",
       "  </thead>\n",
       "  <tbody>\n",
       "    <tr>\n",
       "      <th>count</th>\n",
       "      <td>15648.000000</td>\n",
       "      <td>15648.000000</td>\n",
       "      <td>15648.000000</td>\n",
       "      <td>14101.000000</td>\n",
       "    </tr>\n",
       "    <tr>\n",
       "      <th>mean</th>\n",
       "      <td>0.495527</td>\n",
       "      <td>0.003515</td>\n",
       "      <td>3.351483</td>\n",
       "      <td>19.371779</td>\n",
       "    </tr>\n",
       "    <tr>\n",
       "      <th>std</th>\n",
       "      <td>0.933176</td>\n",
       "      <td>0.061305</td>\n",
       "      <td>2.272356</td>\n",
       "      <td>68.074611</td>\n",
       "    </tr>\n",
       "    <tr>\n",
       "      <th>min</th>\n",
       "      <td>0.000000</td>\n",
       "      <td>0.000000</td>\n",
       "      <td>1.000000</td>\n",
       "      <td>0.000000</td>\n",
       "    </tr>\n",
       "    <tr>\n",
       "      <th>25%</th>\n",
       "      <td>0.000000</td>\n",
       "      <td>0.000000</td>\n",
       "      <td>2.000000</td>\n",
       "      <td>0.183333</td>\n",
       "    </tr>\n",
       "    <tr>\n",
       "      <th>50%</th>\n",
       "      <td>0.000000</td>\n",
       "      <td>0.000000</td>\n",
       "      <td>3.000000</td>\n",
       "      <td>1.033333</td>\n",
       "    </tr>\n",
       "    <tr>\n",
       "      <th>75%</th>\n",
       "      <td>1.000000</td>\n",
       "      <td>0.000000</td>\n",
       "      <td>4.000000</td>\n",
       "      <td>22.850000</td>\n",
       "    </tr>\n",
       "    <tr>\n",
       "      <th>max</th>\n",
       "      <td>13.000000</td>\n",
       "      <td>2.000000</td>\n",
       "      <td>42.000000</td>\n",
       "      <td>5353.000000</td>\n",
       "    </tr>\n",
       "  </tbody>\n",
       "</table>\n",
       "</div>"
      ],
      "text/plain": [
       "       N_reassignment_count  N_reopen_count  N_sys_mod_count       T_hours\n",
       "count          15648.000000    15648.000000     15648.000000  14101.000000\n",
       "mean               0.495527        0.003515         3.351483     19.371779\n",
       "std                0.933176        0.061305         2.272356     68.074611\n",
       "min                0.000000        0.000000         1.000000      0.000000\n",
       "25%                0.000000        0.000000         2.000000      0.183333\n",
       "50%                0.000000        0.000000         3.000000      1.033333\n",
       "75%                1.000000        0.000000         4.000000     22.850000\n",
       "max               13.000000        2.000000        42.000000   5353.000000"
      ]
     },
     "execution_count": 24,
     "metadata": {},
     "output_type": "execute_result"
    }
   ],
   "source": [
    "df.describe()"
   ]
  },
  {
   "cell_type": "code",
   "execution_count": null,
   "outputs": [],
   "source": [
    "df['C_number'] = df['C_number'].drop_duplicates()\n",
    "df"
   ],
   "metadata": {
    "collapsed": false,
    "pycharm": {
     "name": "#%%\n"
    }
   }
  },
  {
   "cell_type": "markdown",
   "source": [
    "## Counting NA values"
   ],
   "metadata": {
    "collapsed": false,
    "pycharm": {
     "name": "#%% md\n"
    }
   }
  },
  {
   "cell_type": "code",
   "execution_count": null,
   "outputs": [],
   "source": [
    "df = df.replace({'?': pd.NA})\n",
    "print(df.isna().sum(axis=0))"
   ],
   "metadata": {
    "collapsed": false,
    "pycharm": {
     "name": "#%%\n"
    }
   }
  },
  {
   "cell_type": "markdown",
   "source": [
    "## Counting unique values"
   ],
   "metadata": {
    "collapsed": false,
    "pycharm": {
     "name": "#%% md\n"
    }
   }
  },
  {
   "cell_type": "code",
   "execution_count": null,
   "outputs": [],
   "source": [
    "unique_counts = df.dropna().nunique()\n",
    "print(unique_counts)"
   ],
   "metadata": {
    "collapsed": false,
    "pycharm": {
     "name": "#%%\n"
    }
   }
  },
  {
   "cell_type": "markdown",
   "source": [
    "## Edit DF - Missing values"
   ],
   "metadata": {
    "collapsed": false,
    "pycharm": {
     "name": "#%% md\n"
    }
   }
  },
  {
   "cell_type": "code",
   "execution_count": null,
   "outputs": [],
   "source": [
    "df"
   ],
   "metadata": {
    "collapsed": false,
    "pycharm": {
     "name": "#%%\n"
    }
   }
  },
  {
   "cell_type": "code",
   "execution_count": null,
   "outputs": [],
   "source": [
    "# sys_created_at has 37 % values -> we use opened_at with no missing values\n",
    "df = df.drop('N_sys_created_at', axis=1)"
   ],
   "metadata": {
    "collapsed": false,
    "pycharm": {
     "name": "#%%\n"
    }
   }
  },
  {
   "cell_type": "code",
   "execution_count": null,
   "outputs": [],
   "source": [
    "# drop C_sys_created_by -> use opened_by\n",
    "df = df.drop('C_sys_created_by', axis=1)"
   ],
   "metadata": {
    "collapsed": false,
    "pycharm": {
     "name": "#%%\n"
    }
   }
  },
  {
   "cell_type": "code",
   "execution_count": null,
   "outputs": [],
   "source": [
    "# drop because of NA values\n",
    "df = df.drop(columns=['C_cmdb_ci', 'C_problem_id', 'C_rfc', 'C_vendor', 'C_caused_by'])"
   ],
   "metadata": {
    "collapsed": false,
    "pycharm": {
     "name": "#%%\n"
    }
   }
  },
  {
   "cell_type": "code",
   "execution_count": null,
   "outputs": [],
   "source": [
    "# drop of not needed columns\n",
    "# misto N_closed_at pouzijeme N_resolved_at\n",
    "df = df.drop(columns=['N_closed_at', 'N_sys_updated_at','C_opened_by','C_assigned_to', 'C_assignment_group','C_u_symptom'])"
   ],
   "metadata": {
    "collapsed": false,
    "pycharm": {
     "name": "#%%\n"
    }
   }
  },
  {
   "cell_type": "code",
   "execution_count": null,
   "outputs": [],
   "source": [
    "df = df.drop(columns=['C_incident_state', 'C_active', 'C_caller_id', 'C_sys_updated_by'])"
   ],
   "metadata": {
    "collapsed": false,
    "pycharm": {
     "name": "#%%\n"
    }
   }
  },
  {
   "cell_type": "code",
   "execution_count": null,
   "outputs": [],
   "source": [
    "# Counting NA values\n",
    "print(df.isna().sum(axis=0))"
   ],
   "metadata": {
    "collapsed": false,
    "pycharm": {
     "name": "#%%\n"
    }
   }
  },
  {
   "cell_type": "code",
   "execution_count": null,
   "outputs": [],
   "source": [
    "df"
   ],
   "metadata": {
    "collapsed": false,
    "pycharm": {
     "name": "#%%\n"
    }
   }
  },
  {
   "cell_type": "code",
   "execution_count": null,
   "outputs": [],
   "source": [
    "# rows with missing values for other variables\n",
    "df.dropna(inplace=True)"
   ],
   "metadata": {
    "collapsed": false,
    "pycharm": {
     "name": "#%%\n"
    }
   }
  },
  {
   "cell_type": "code",
   "execution_count": null,
   "outputs": [],
   "source": [
    "# Counting NA values\n",
    "print(df.isna().sum(axis=0))\n",
    "print(df.shape[0])"
   ],
   "metadata": {
    "collapsed": false,
    "pycharm": {
     "name": "#%%\n"
    }
   }
  },
  {
   "cell_type": "markdown",
   "source": [
    "## Data exploration"
   ],
   "metadata": {
    "collapsed": false,
    "pycharm": {
     "name": "#%% md\n"
    }
   }
  },
  {
   "cell_type": "code",
   "execution_count": null,
   "outputs": [],
   "source": [
    " # Histogram of N_opened_at\n",
    "plt.figure(figsize=(10, 5))\n",
    "plt.subplot(1, 2, 1)\n",
    "plt.hist(df['N_opened_at'].dt.hour, bins=24, color='blue')\n",
    "plt.xlabel('Hour of Day')\n",
    "plt.ylabel('Frequency')\n",
    "plt.title('Histogram of Opened Time')\n",
    "\n",
    "plt.tight_layout()\n",
    "plt.show()"
   ],
   "metadata": {
    "collapsed": false,
    "pycharm": {
     "name": "#%%\n"
    }
   }
  },
  {
   "cell_type": "code",
   "execution_count": null,
   "outputs": [],
   "source": [
    "hour_stats = df['N_opened_at'].dt.hour.describe(percentiles=[0.1, 0.9])\n",
    "\n",
    "print(hour_stats)"
   ],
   "metadata": {
    "collapsed": false,
    "pycharm": {
     "name": "#%%\n"
    }
   }
  },
  {
   "cell_type": "code",
   "execution_count": null,
   "outputs": [],
   "source": [
    "# We decided to look on cases where N_opened_at is between 8am and 6pm as this time span covers most of the incidents and we believe\n",
    "# that also this time span represents the working hours"
   ],
   "metadata": {
    "collapsed": false,
    "pycharm": {
     "name": "#%%\n"
    }
   }
  },
  {
   "cell_type": "code",
   "execution_count": null,
   "outputs": [],
   "source": [
    "df = df[(df['N_opened_at'].dt.time >= pd.to_datetime('08:00').time()) & (df['N_opened_at'].dt.time <= pd.to_datetime('17:59').time())]\n",
    "df['N_opened_at'].dt.hour.describe(percentiles=[0.1, 0.9])"
   ],
   "metadata": {
    "collapsed": false,
    "pycharm": {
     "name": "#%%\n"
    }
   }
  },
  {
   "cell_type": "code",
   "execution_count": null,
   "outputs": [],
   "source": [
    " # Histogram of N_opened_at\n",
    "plt.figure(figsize=(10, 5))\n",
    "plt.subplot(1, 2, 1)\n",
    "plt.hist(df['N_opened_at'].dt.hour, bins=24, color='blue')\n",
    "plt.xlabel('Hour of Day')\n",
    "plt.ylabel('Frequency')\n",
    "plt.title('Histogram of Opened Time')\n",
    "\n",
    "plt.tight_layout()\n",
    "plt.show()"
   ],
   "metadata": {
    "collapsed": false,
    "pycharm": {
     "name": "#%%\n"
    }
   }
  },
  {
   "cell_type": "code",
   "execution_count": null,
   "outputs": [],
   "source": [
    "df['C_Incident_opened_DayOfWeek'] = df['N_opened_at'].dt.dayofweek"
   ],
   "metadata": {
    "collapsed": false,
    "pycharm": {
     "name": "#%%\n"
    }
   }
  },
  {
   "cell_type": "code",
   "execution_count": null,
   "outputs": [],
   "source": [
    "plt.hist(df['C_Incident_opened_DayOfWeek'])\n",
    "plt.xlabel('Day of the Week')\n",
    "plt.ylabel('Frequency')\n",
    "plt.title('Histogram of Incident_opened_DayOfWeek')\n",
    "plt.xticks(range(7), ['Monday', 'Tuesday', 'Wednesday', 'Thursday', 'Friday', 'Saturday', 'Sunday'])\n",
    "\n",
    "plt.show()"
   ],
   "metadata": {
    "collapsed": false,
    "pycharm": {
     "name": "#%%\n"
    }
   }
  },
  {
   "cell_type": "code",
   "execution_count": null,
   "outputs": [],
   "source": [
    "def display_occurrences(df, columns):\n",
    "    total_rows = len(df)\n",
    "    \n",
    "    for column in columns:\n",
    "        count_values = df[column].value_counts().sort_index()\n",
    "        count_df = pd.DataFrame({column: count_values.index, 'Count': count_values.values})\n",
    "        count_df['Percentage'] = count_df['Count'] / total_rows * 100\n",
    "        print(f\"Occurrences for variable '{column}':\")\n",
    "        print(count_df)\n",
    "        print()\n",
    "\n",
    "# Assuming you have a DataFrame named df with the specified variables\n",
    "columns = ['N_reassignment_count', 'N_reopen_count', 'N_sys_mod_count']\n",
    "display_occurrences(df, columns)"
   ],
   "metadata": {
    "collapsed": false,
    "pycharm": {
     "name": "#%%\n"
    }
   }
  },
  {
   "cell_type": "markdown",
   "source": [
    "## Graphs"
   ],
   "metadata": {
    "collapsed": false,
    "pycharm": {
     "name": "#%% md\n"
    }
   }
  },
  {
   "cell_type": "code",
   "execution_count": null,
   "outputs": [],
   "source": [
    "import seaborn as sns\n",
    "\n",
    "rating_features = ['N_reassignment_count', 'N_reopen_count', 'N_sys_mod_count', 'N_opened_at', 'N_resolved_at', 'T_hours']\n",
    "\n",
    "fig, axes = plt.subplots(nrows=len(rating_features), ncols=1, figsize=(8, 24))\n",
    "\n",
    "for i, feature in enumerate(rating_features):\n",
    "    sns.histplot(df[feature].dropna(), ax=axes[i], kde=True)\n",
    "    axes[i].set_title(f'Histogram of {feature}')\n",
    "    axes[i].set_xlabel('Rating')\n",
    "    axes[i].set_ylabel('Frequency')\n",
    "\n",
    "plt.tight_layout()\n",
    "plt.show()"
   ],
   "metadata": {
    "collapsed": false,
    "pycharm": {
     "name": "#%%\n"
    }
   }
  },
  {
   "cell_type": "markdown",
   "source": [
    "Most of the observations have no frequent modifications"
   ],
   "metadata": {
    "collapsed": false,
    "pycharm": {
     "name": "#%% md\n"
    }
   }
  },
  {
   "cell_type": "code",
   "execution_count": null,
   "outputs": [],
   "source": [
    "num_bins = 15\n",
    "bins = pd.cut(df['N_opened_at'], bins=num_bins)\n",
    "bin_counts = bins.value_counts().sort_index()\n",
    "\n",
    "print(bin_counts)"
   ],
   "metadata": {
    "collapsed": false,
    "pycharm": {
     "name": "#%%\n"
    }
   }
  },
  {
   "cell_type": "code",
   "execution_count": null,
   "outputs": [],
   "source": [
    "# we will use data only until May of 2016\n",
    "df = df[df['N_opened_at'] <= '2016-05-31']"
   ],
   "metadata": {
    "collapsed": false,
    "pycharm": {
     "name": "#%%\n"
    }
   }
  },
  {
   "cell_type": "code",
   "execution_count": null,
   "outputs": [],
   "source": [
    "num_bins = 20\n",
    "bins = pd.cut(df['T_hours'], bins=num_bins)\n",
    "bin_counts = bins.value_counts().sort_index()\n",
    "\n",
    "print(bin_counts)"
   ],
   "metadata": {
    "collapsed": false,
    "pycharm": {
     "name": "#%%\n"
    }
   }
  },
  {
   "cell_type": "code",
   "execution_count": null,
   "outputs": [],
   "source": [
    "count = len(df[df['T_hours'] < 0 ])\n",
    "\n",
    "print(\"Number of rows where T_hours is lower than 0:\", count)"
   ],
   "metadata": {
    "collapsed": false,
    "pycharm": {
     "name": "#%%\n"
    }
   }
  },
  {
   "cell_type": "code",
   "execution_count": null,
   "outputs": [],
   "source": [
    "df[\"N_sys_mod_count\"].describe(percentiles=[0.1, 0.9])"
   ],
   "metadata": {
    "collapsed": false,
    "pycharm": {
     "name": "#%%\n"
    }
   }
  },
  {
   "cell_type": "code",
   "execution_count": null,
   "outputs": [],
   "source": [
    "num_bins = 15\n",
    "bins = pd.cut(df['N_sys_mod_count'], bins=num_bins)\n",
    "bin_counts = bins.value_counts().sort_index()\n",
    "\n",
    "print(bin_counts)"
   ],
   "metadata": {
    "collapsed": false,
    "pycharm": {
     "name": "#%%\n"
    }
   }
  },
  {
   "cell_type": "code",
   "execution_count": null,
   "outputs": [],
   "source": [
    "df['N_sys_mod_count'].value_counts()"
   ],
   "metadata": {
    "collapsed": false,
    "pycharm": {
     "name": "#%%\n"
    }
   }
  },
  {
   "cell_type": "code",
   "execution_count": null,
   "outputs": [],
   "source": [
    "df['C_Day_of_Month'] = df['N_opened_at'].dt.day"
   ],
   "metadata": {
    "collapsed": false,
    "pycharm": {
     "name": "#%%\n"
    }
   }
  },
  {
   "cell_type": "code",
   "execution_count": null,
   "outputs": [],
   "source": [
    "df['C_Week_of_Month'] = (df['C_Day_of_Month'] - 1) // 7 + 1"
   ],
   "metadata": {
    "collapsed": false,
    "pycharm": {
     "name": "#%%\n"
    }
   }
  },
  {
   "cell_type": "code",
   "execution_count": null,
   "outputs": [],
   "source": [
    "plt.scatter(df['C_Week_of_Month'], df['T_hours'])\n",
    "\n",
    "# Set the axis labels and title\n",
    "plt.xlabel('Week of Month')\n",
    "plt.ylabel('Time (hours) to Resolved')\n",
    "plt.title('Scatter Plot: Week of Month vs. Time to Resolved')\n",
    "\n",
    "# Display the plot\n",
    "plt.show()"
   ],
   "metadata": {
    "collapsed": false,
    "pycharm": {
     "name": "#%%\n"
    }
   }
  },
  {
   "cell_type": "code",
   "execution_count": null,
   "outputs": [],
   "source": [
    "df = df[df['T_hours'] < 4000]\n",
    "plt.scatter(df['C_Week_of_Month'], df['T_hours'])\n",
    "\n",
    "# Set the axis labels and title\n",
    "plt.xlabel('Week of Month')\n",
    "plt.ylabel('Time (hours) to Resolved')\n",
    "plt.title('Scatter Plot: Week of Month vs. Time to Resolved')\n",
    "\n",
    "# Display the plot\n",
    "plt.show()"
   ],
   "metadata": {
    "collapsed": false,
    "pycharm": {
     "name": "#%%\n"
    }
   }
  },
  {
   "cell_type": "code",
   "execution_count": null,
   "outputs": [],
   "source": [
    "df.reset_index(drop=True, inplace=True)\n",
    "df"
   ],
   "metadata": {
    "collapsed": false,
    "pycharm": {
     "name": "#%%\n"
    }
   }
  },
  {
   "cell_type": "code",
   "execution_count": null,
   "outputs": [],
   "source": [
    "df['T_hours'].describe(percentiles=[0.025, 0.975])"
   ],
   "metadata": {
    "collapsed": false,
    "pycharm": {
     "name": "#%%\n"
    }
   }
  },
  {
   "cell_type": "code",
   "execution_count": null,
   "outputs": [],
   "source": [
    "plt.hist(false_df['T_hours'], bins=30, color='blue')\n",
    "plt.show()"
   ],
   "metadata": {
    "collapsed": false,
    "pycharm": {
     "name": "#%%\n"
    }
   }
  },
  {
   "cell_type": "code",
   "execution_count": null,
   "outputs": [],
   "source": [
    "df = df[df['T_hours'] > 0]\n",
    "df['T_hours_transformed'] = np.log(df['T_hours'])"
   ],
   "metadata": {
    "collapsed": false,
    "pycharm": {
     "name": "#%%\n"
    }
   }
  },
  {
   "cell_type": "code",
   "execution_count": null,
   "outputs": [],
   "source": [
    "rating_features = ['T_hours','T_hours_transformed',\"C_Day_of_Month\"]\n",
    "\n",
    "fig, axes = plt.subplots(nrows=len(rating_features), ncols=1, figsize=(18, 18))\n",
    "\n",
    "for i, feature in enumerate(rating_features):\n",
    "    sns.histplot(df[feature].dropna(), ax=axes[i], kde=True, binwidth=1)\n",
    "    axes[i].set_title(f'Histogram of {feature}')\n",
    "    axes[i].set_xlabel('Rating')\n",
    "    axes[i].set_ylabel('Frequency')\n",
    "\n",
    "plt.tight_layout()\n",
    "plt.show()"
   ],
   "metadata": {
    "collapsed": false,
    "pycharm": {
     "name": "#%%\n"
    }
   }
  },
  {
   "cell_type": "code",
   "execution_count": null,
   "outputs": [],
   "source": [
    "df"
   ],
   "metadata": {
    "collapsed": false,
    "pycharm": {
     "name": "#%%\n"
    }
   }
  },
  {
   "cell_type": "code",
   "execution_count": null,
   "outputs": [],
   "source": [
    "import seaborn as sns\n",
    "\n",
    "x1 = df['C_Incident_opened_DayOfWeek']\n",
    "x2 = df['C_Week_of_Month']\n",
    "y = df['T_hours_transformed']\n",
    "\n",
    "# Boxplot 1: C_Incident_opened_DayOfWeek vs T_hours\n",
    "plt.figure(figsize=(8, 4))\n",
    "sns.boxplot(x=x1, y=y)\n",
    "plt.xlabel('C_Incident_opened_DayOfWeek')\n",
    "plt.ylabel('T_hours_')\n",
    "plt.title('Boxplot: C_Incident_opened_DayOfWeek vs T_hours')\n",
    "\n",
    "# Boxplot 2: C_Week_of_Month vs T_hours\n",
    "plt.figure(figsize=(8, 4))\n",
    "sns.boxplot(x=x2, y=y)\n",
    "plt.xlabel('C_Week_of_Month')\n",
    "plt.ylabel('T_hours_transformed')\n",
    "plt.title('Boxplot: C_Week_of_Month vs T_hours')\n",
    "\n",
    "# Display the plots\n",
    "plt.show()\n"
   ],
   "metadata": {
    "collapsed": false,
    "pycharm": {
     "name": "#%%\n"
    }
   }
  },
  {
   "cell_type": "markdown",
   "source": [
    "No sufficient difference"
   ],
   "metadata": {
    "collapsed": false,
    "pycharm": {
     "name": "#%% md\n"
    }
   }
  },
  {
   "cell_type": "code",
   "execution_count": null,
   "outputs": [],
   "source": [
    "## Boxplots"
   ],
   "metadata": {
    "collapsed": false,
    "pycharm": {
     "name": "#%%\n"
    }
   }
  },
  {
   "cell_type": "code",
   "execution_count": null,
   "outputs": [],
   "source": [
    "# Counting NA values\n",
    "print(df.isna().sum(axis=0))"
   ],
   "metadata": {
    "collapsed": false,
    "pycharm": {
     "name": "#%%\n"
    }
   }
  },
  {
   "cell_type": "code",
   "execution_count": null,
   "outputs": [],
   "source": [
    "def plot_categorical_features(df):\n",
    "    categorical_features = ['C_made_sla', 'C_impact', 'C_urgency',\n",
    "                            'C_priority', 'C_knowledge', 'C_u_priority_confirmation',\n",
    "                            'C_closed_code']\n",
    "    target_variable = 'T_hours_transformed'\n",
    "\n",
    "    fig, axes = plt.subplots(nrows=len(categorical_features), ncols=1, figsize=(16, 24))\n",
    "\n",
    "    for i, feature in enumerate(categorical_features):\n",
    "        sns.boxplot(x=feature, y=target_variable, data=df, ax=axes[i])\n",
    "        axes[i].set_title(f'Boxplot of {feature}')\n",
    "        axes[i].set_xlabel(feature)\n",
    "        axes[i].set_ylabel(target_variable)\n",
    "\n",
    "    plt.tight_layout()\n",
    "    plt.show()\n"
   ],
   "metadata": {
    "collapsed": false,
    "pycharm": {
     "name": "#%%\n"
    }
   }
  },
  {
   "cell_type": "code",
   "execution_count": null,
   "outputs": [],
   "source": [
    "plot_categorical_features(df)"
   ],
   "metadata": {
    "collapsed": false,
    "pycharm": {
     "name": "#%%\n"
    }
   }
  },
  {
   "cell_type": "code",
   "execution_count": null,
   "outputs": [],
   "source": [
    "# drop of categorical features with only one value\n",
    "df = df.drop(columns=['C_notify'])"
   ],
   "metadata": {
    "collapsed": false,
    "pycharm": {
     "name": "#%%\n"
    }
   }
  },
  {
   "cell_type": "code",
   "execution_count": null,
   "outputs": [],
   "source": [
    "#group this\n",
    "pd.set_option('display.max_rows', None)\n",
    "df['C_location'].value_counts()"
   ],
   "metadata": {
    "collapsed": false,
    "pycharm": {
     "name": "#%%\n"
    }
   }
  },
  {
   "cell_type": "code",
   "execution_count": null,
   "outputs": [],
   "source": [
    "# Grouping the incidents by its sys_mod_count\n",
    "loc_pdf = df.groupby('C_location')['C_location'].count()\n",
    "\n",
    "fig = plt.figure(figsize=(15,6))\n",
    "\n",
    "ax1 = plt.subplot(121)\n",
    "sns.kdeplot(loc_pdf, shade=True, ax=ax1)\n",
    "plt.xlabel('# of times the Incident has sys_mod_count',size = 14)\n",
    "plt.title(\"PDF\",size = 14)\n",
    "ax1.grid()\n",
    "\n",
    "ax2 = plt.subplot(122)\n",
    "sns.kdeplot(loc_pdf, shade=True, cumulative=True,ax=ax2)\n",
    "plt.xlabel('# of times the Incident has sys_mod_count',size = 14)\n",
    "plt.title('CDF',size = 14)\n",
    "ax2.grid()\n",
    "\n",
    "plt.show()"
   ],
   "metadata": {
    "collapsed": false,
    "pycharm": {
     "name": "#%%\n"
    }
   }
  },
  {
   "cell_type": "code",
   "execution_count": null,
   "outputs": [],
   "source": [
    "# Group the data by the \"Location\" column and count the number of occurrences of each location\n",
    "counts = df.groupby('C_location')['C_location'].count()\n",
    "\n",
    "# Sort the counts in descending order\n",
    "counts = counts.sort_values(ascending=False)\n",
    "\n",
    "# Calculate the PDF and CDF\n",
    "pdf = counts / counts.sum()\n",
    "cdf = pdf.cumsum()\n",
    "\n",
    "# Identify the locations to wrap into the \"other\" category\n",
    "other_count = counts[20:].sum()\n",
    "\n",
    "# Create a new DataFrame with the counts for the top 20 locations and the \"other\" category\n",
    "top_counts = counts[:20].append(pd.Series({'other': other_count}))\n",
    "\n",
    "# Calculate the PDF and CDF for the top 20 locations and the \"other\" category\n",
    "top_pdf = top_counts / top_counts.sum()\n",
    "top_cdf = top_pdf.cumsum()\n",
    "\n",
    "# Plot the PDF and CDF charts\n",
    "fig, ax = plt.subplots(1, 2, figsize=(24, 8))\n",
    "ax[0].bar(top_pdf.index, top_pdf)\n",
    "ax[0].set_title('PDF')\n",
    "ax[0].set_xlabel('Location')\n",
    "ax[0].set_ylabel('Probability')\n",
    "ax[1].plot(top_cdf.index, top_cdf)\n",
    "ax[1].set_title('CDF')\n",
    "ax[1].set_xlabel('Location')\n",
    "ax[1].set_ylabel('Cumulative Probability')\n",
    "plt.show()"
   ],
   "metadata": {
    "collapsed": false,
    "pycharm": {
     "name": "#%%\n"
    }
   }
  },
  {
   "cell_type": "code",
   "execution_count": null,
   "outputs": [],
   "source": [
    "category_counts = df['C_location'].value_counts()\n",
    "\n",
    "# Get the top 20 categories by frequency\n",
    "top_categories = category_counts.nlargest(20).index.tolist()\n",
    "\n",
    "df['C_location'] = df['C_location'].apply(lambda x: x if x in top_categories else 'other')\n",
    "\n",
    "df['C_location'].value_counts()"
   ],
   "metadata": {
    "collapsed": false,
    "pycharm": {
     "name": "#%%\n"
    }
   }
  },
  {
   "cell_type": "code",
   "execution_count": null,
   "outputs": [],
   "source": [
    "#group this\n",
    "df['C_category'].str.lower().value_counts()"
   ],
   "metadata": {
    "collapsed": false,
    "pycharm": {
     "name": "#%%\n"
    }
   }
  },
  {
   "cell_type": "code",
   "execution_count": null,
   "outputs": [],
   "source": [
    "import seaborn as sns\n",
    "import matplotlib.pyplot as plt\n",
    "\n",
    "fig_dims = (18, 12)\n",
    "fig, ax = plt.subplots(figsize=fig_dims)\n",
    "\n",
    "category_counts = df['C_category'].value_counts().sort_values(ascending=False)  # Sort categories by count in descending order\n",
    "\n",
    "sns.countplot(x='C_category', data=df, order=category_counts.index, ax=ax)  # Pass the ordered category index to countplot\n",
    "\n",
    "plt.title(\"Category Details\", size=14)\n",
    "plt.xlabel(\"Category Type\", size=12)\n",
    "plt.ylabel(\"Count\", size=12)\n",
    "plt.xticks(rotation=90)\n",
    "plt.grid()\n",
    "plt.show()\n"
   ],
   "metadata": {
    "collapsed": false,
    "pycharm": {
     "name": "#%%\n"
    }
   }
  },
  {
   "cell_type": "code",
   "execution_count": null,
   "outputs": [],
   "source": [
    "category_counts = df['C_category'].value_counts()\n",
    "\n",
    "# Get the top 20 categories by frequency\n",
    "top_categories = category_counts.nlargest(20).index.tolist()\n",
    "\n",
    "df['C_category'] = df['C_category'].apply(lambda x: x if x in top_categories else 'other')\n",
    "\n",
    "df['C_category'].value_counts()"
   ],
   "metadata": {
    "collapsed": false,
    "pycharm": {
     "name": "#%%\n"
    }
   }
  },
  {
   "cell_type": "code",
   "execution_count": null,
   "outputs": [],
   "source": [
    "#also group this\n",
    "df['C_subcategory'].value_counts()"
   ],
   "metadata": {
    "collapsed": false,
    "pycharm": {
     "name": "#%%\n"
    }
   }
  },
  {
   "cell_type": "code",
   "execution_count": null,
   "outputs": [],
   "source": [
    "category_counts = df['C_subcategory'].value_counts()\n",
    "\n",
    "# Get the top 20 categories by frequency\n",
    "top_subcategories = category_counts.nlargest(20).index.tolist()\n",
    "\n",
    "df['C_subcategory'] = df['C_subcategory'].apply(lambda x: x if x in top_subcategories else 'other')\n",
    "\n",
    "df['C_subcategory'].value_counts()"
   ],
   "metadata": {
    "collapsed": false,
    "pycharm": {
     "name": "#%%\n"
    }
   }
  },
  {
   "cell_type": "code",
   "execution_count": null,
   "outputs": [],
   "source": [
    "# group this\n",
    "df['C_closed_code'].value_counts()"
   ],
   "metadata": {
    "collapsed": false,
    "pycharm": {
     "name": "#%%\n"
    }
   }
  },
  {
   "cell_type": "code",
   "execution_count": null,
   "outputs": [],
   "source": [
    "category_counts = df['C_closed_code'].value_counts()\n",
    "\n",
    "# Get the top 10 categories by frequency\n",
    "top_codes = category_counts.nlargest(5).index.tolist()\n",
    "\n",
    "df['C_closed_code'] = df['C_closed_code'].apply(lambda x: x if x in top_codes else 'other')\n",
    "\n",
    "df['C_closed_code'].value_counts()"
   ],
   "metadata": {
    "collapsed": false,
    "pycharm": {
     "name": "#%%\n"
    }
   }
  },
  {
   "cell_type": "markdown",
   "source": [
    "## DF split"
   ],
   "metadata": {
    "collapsed": false,
    "pycharm": {
     "name": "#%% md\n"
    }
   }
  },
  {
   "cell_type": "code",
   "execution_count": null,
   "outputs": [],
   "source": [
    "# Split features into cat and num\n",
    "C_features = df.filter(regex='^C')\n",
    "print(C_features.columns)\n",
    "\n",
    "N_features = df.filter(regex='^N')\n",
    "print(N_features.columns)"
   ],
   "metadata": {
    "collapsed": false,
    "pycharm": {
     "name": "#%%\n"
    }
   }
  },
  {
   "cell_type": "markdown",
   "source": [
    "## Histogramy"
   ],
   "metadata": {
    "collapsed": false,
    "pycharm": {
     "name": "#%% md\n"
    }
   }
  },
  {
   "cell_type": "code",
   "execution_count": null,
   "outputs": [],
   "source": [
    "import seaborn as sns\n",
    "\n",
    "rating_features = ['N_opened_at', 'N_resolved_at', 'C_Incident_opened_DayOfWeek','C_Day_of_Month','C_Week_of_Month']\n",
    "\n",
    "fig, axes = plt.subplots(nrows=len(rating_features), ncols=1, figsize=(12, 12))\n",
    "\n",
    "for i, feature in enumerate(rating_features):\n",
    "    sns.set_style(\"darkgrid\")\n",
    "    sns.histplot(df[feature].dropna(), ax=axes[i], kde=True)\n",
    "    axes[i].set_title(f'Histogram of {feature}')\n",
    "    axes[i].set_xlabel('Rating')\n",
    "    axes[i].set_ylabel('Frequency')\n",
    "\n",
    "plt.tight_layout()\n",
    "plt.show()"
   ],
   "metadata": {
    "collapsed": false,
    "pycharm": {
     "name": "#%%\n"
    }
   }
  },
  {
   "cell_type": "markdown",
   "source": [
    "## Boxploty"
   ],
   "metadata": {
    "collapsed": false,
    "pycharm": {
     "name": "#%% md\n"
    }
   }
  },
  {
   "cell_type": "code",
   "execution_count": null,
   "outputs": [],
   "source": [
    "import seaborn as sns\n",
    "import matplotlib.pyplot as plt\n",
    "\n",
    "def plot_categorical_features(df):\n",
    "    categorical_features = ['C_made_sla', 'C_impact', 'C_urgency',\n",
    "                            'C_priority', 'C_knowledge', 'C_u_priority_confirmation',\n",
    "                            'C_closed_code']\n",
    "    \n",
    "    target_variable = 'T_hours_transformed'\n",
    "    \n",
    "    fig, axes = plt.subplots(nrows=len(categorical_features), ncols=1, figsize=(8, 24))\n",
    "    \n",
    "    for i, feature in enumerate(categorical_features):\n",
    "        sns.set_style(\"darkgrid\")\n",
    "        sns.boxplot(x=feature, y=target_variable, data=df, ax=axes[i])\n",
    "        axes[i].set_title(f'Boxplot of {feature}')\n",
    "        axes[i].set_xlabel(feature)\n",
    "        axes[i].set_ylabel(target_variable)\n",
    "    \n",
    "    plt.tight_layout()\n",
    "    plt.show()"
   ],
   "metadata": {
    "collapsed": false,
    "pycharm": {
     "name": "#%%\n"
    }
   }
  },
  {
   "cell_type": "code",
   "execution_count": null,
   "outputs": [],
   "source": [
    "plot_categorical_features(df)"
   ],
   "metadata": {
    "collapsed": false,
    "pycharm": {
     "name": "#%%\n"
    }
   }
  },
  {
   "cell_type": "markdown",
   "source": [
    "## Scatterploty"
   ],
   "metadata": {
    "collapsed": false,
    "pycharm": {
     "name": "#%% md\n"
    }
   }
  },
  {
   "cell_type": "code",
   "execution_count": null,
   "outputs": [],
   "source": [
    "x3 = df['C_Incident_opened_DayOfWeek']\n",
    "x4 = df['C_Day_of_Month']\n",
    "x5 = df['C_Week_of_Month']\n",
    "y = df['T_hours_transformed']\n",
    "\n",
    "# Scatter plot 3: C_Incident_opened_DayOfWeek vs T_hours\n",
    "plt.figure(figsize=(8, 4))\n",
    "plt.scatter(x3, y, alpha=0.5)\n",
    "plt.xlabel('C_Incident_opened_DayOfWeek')\n",
    "plt.ylabel('T_hours')\n",
    "plt.title('Scatter Plot: C_Incident_opened_DayOfWeek vs T_hours')\n",
    "\n",
    "# Add trendline using numpy polyfit\n",
    "m1, b1 = np.polyfit(x3, y, 1)\n",
    "plt.plot(x3, m1 * x3 + b1, color='red')\n",
    "\n",
    "# Scatter plot 4: C_Day_of_Month vs T_hours\n",
    "plt.figure(figsize=(8, 4))\n",
    "plt.scatter(x4, y, alpha=0.5)\n",
    "plt.xlabel('C_Day_of_Month')\n",
    "plt.ylabel('T_hours')\n",
    "plt.title('Scatter Plot: C_Day_of_Month vs T_hours')\n",
    "\n",
    "# Add trendline using numpy polyfit\n",
    "m2, b2 = np.polyfit(x4, y, 1)\n",
    "plt.plot(x4, m2 * x4 + b2, color='red')\n",
    "\n",
    "# Scatter plot 5: C_Week_of_Month vs T_hours\n",
    "plt.figure(figsize=(8, 4))\n",
    "plt.scatter(x5, y, alpha=0.5)\n",
    "plt.xlabel('C_Week_of_Month')\n",
    "plt.ylabel('T_hours')\n",
    "plt.title('Scatter Plot: C_Week_of_Month vs T_hours')\n",
    "\n",
    "# Add trendline using numpy polyfit\n",
    "m1, b1 = np.polyfit(x5, y, 1)\n",
    "plt.plot(x5, m1 * x5 + b1, color='red')\n",
    "\n",
    "# Display the plots\n",
    "plt.show()"
   ],
   "metadata": {
    "collapsed": false,
    "pycharm": {
     "name": "#%%\n"
    }
   }
  },
  {
   "cell_type": "code",
   "execution_count": null,
   "outputs": [],
   "source": [
    "def mark_evening(row):\n",
    "    if row['N_opened_at'].hour > 15:\n",
    "        return 1\n",
    "    else:\n",
    "        return 0\n",
    "\n",
    "# Apply the function to each row of the DataFrame and store the result in a new column\n",
    "df['is_evening'] = df.apply(mark_evening, axis=1)\n",
    "df[['N_opened_at', 'is_evening']].head(35)"
   ],
   "metadata": {
    "collapsed": false,
    "pycharm": {
     "name": "#%%\n"
    }
   }
  },
  {
   "cell_type": "markdown",
   "source": [
    "## Korelacna matica"
   ],
   "metadata": {
    "collapsed": false,
    "pycharm": {
     "name": "#%% md\n"
    }
   }
  },
  {
   "cell_type": "code",
   "execution_count": null,
   "outputs": [],
   "source": [
    "#correlation matrix T_hours vs. Numerical feat\n",
    "corr_matrix = df.corr()\n",
    "\n",
    "# Create the heatmap\n",
    "plt.figure(figsize=(12, 8))\n",
    "sns.heatmap(corr_matrix, annot=True, cmap='coolwarm')\n",
    "plt.title('Correlation Matrix')\n",
    "plt.show()"
   ],
   "metadata": {
    "collapsed": false,
    "pycharm": {
     "name": "#%%\n"
    }
   }
  },
  {
   "cell_type": "markdown",
   "source": [
    "## Feature check"
   ],
   "metadata": {
    "collapsed": false,
    "pycharm": {
     "name": "#%% md\n"
    }
   }
  },
  {
   "cell_type": "code",
   "execution_count": null,
   "outputs": [],
   "source": [
    " # Categorical features \n",
    "pd.set_option('display.max_rows', 500)\n",
    "\n",
    "pivot_data = C_features.agg(['nunique']).T\n",
    "pivot_data['over_8'] = np.where(pivot_data['nunique'] > 8, 1, 0).astype(int)\n",
    "\n",
    "dict = {}\n",
    "for x in C_features.columns:\n",
    "    value_count = C_features[x].value_counts()\n",
    "    value_count = value_count/C_features[x].count()\n",
    "    dict[x] = value_count.where(lambda x : x < 0.05).count()\n",
    "    \n",
    "result = pd.merge(pivot_data, pd.Series(dict, name='under_5_perc'), left_index=True, right_index=True)\n",
    "result['flag'] = np.where((result['over_8'] > 0) | (result['under_5_perc'] > 0), 1, 0)\n",
    "display(result)"
   ],
   "metadata": {
    "collapsed": false,
    "pycharm": {
     "name": "#%%\n"
    }
   }
  },
  {
   "cell_type": "code",
   "execution_count": null,
   "outputs": [],
   "source": [
    "N_features.describe()"
   ],
   "metadata": {
    "collapsed": false,
    "pycharm": {
     "name": "#%%\n"
    }
   }
  },
  {
   "cell_type": "markdown",
   "source": [
    "# ML Part\n"
   ],
   "metadata": {
    "collapsed": false,
    "pycharm": {
     "name": "#%% md\n"
    }
   }
  },
  {
   "cell_type": "code",
   "execution_count": null,
   "outputs": [],
   "source": [
    "df_ml = df.drop(columns=['C_number','N_opened_at', 'N_resolved_at', 'N_reassignment_count',\n",
    "                         'C_u_priority_confirmation', 'C_resolved_by', 'C_closed_code',\n",
    "                         'C_Week_of_Month', 'C_Day_of_Month', 'C_made_sla', 'N_sys_mod_count',\n",
    "                         'N_reopen_count', 'T_hours'])"
   ],
   "metadata": {
    "collapsed": false,
    "pycharm": {
     "name": "#%%\n"
    }
   }
  },
  {
   "cell_type": "code",
   "execution_count": null,
   "outputs": [],
   "source": [
    "#correlation matrix df_ml\n",
    "corr_matrix = df_ml.corr()\n",
    "\n",
    "# Create the heatmap\n",
    "plt.figure(figsize=(12, 8))\n",
    "sns.heatmap(corr_matrix, annot=True, cmap='coolwarm')\n",
    "plt.title('Correlation Matrix')\n",
    "plt.show()"
   ],
   "metadata": {
    "collapsed": false,
    "pycharm": {
     "name": "#%%\n"
    }
   }
  },
  {
   "cell_type": "code",
   "execution_count": null,
   "outputs": [],
   "source": [
    "df_ml.columns"
   ],
   "metadata": {
    "collapsed": false,
    "pycharm": {
     "name": "#%%\n"
    }
   }
  },
  {
   "cell_type": "code",
   "execution_count": null,
   "outputs": [],
   "source": [
    "df_ml = pd.get_dummies(df_ml)"
   ],
   "metadata": {
    "collapsed": false,
    "pycharm": {
     "name": "#%%\n"
    }
   }
  },
  {
   "cell_type": "code",
   "execution_count": null,
   "outputs": [],
   "source": [
    "from sklearn.model_selection import train_test_split\n",
    "\n",
    "X = df_ml.drop('T_hours_transformed', axis=1)\n",
    "y = df_ml['T_hours_transformed']\n",
    "\n",
    "# split the dataset into training and testing sets\n",
    "X_train, X_test, y_train, y_test = train_test_split(X, y, test_size=0.3, random_state=42)"
   ],
   "metadata": {
    "collapsed": false,
    "pycharm": {
     "name": "#%%\n"
    }
   }
  },
  {
   "cell_type": "markdown",
   "source": [
    "## Linear Regression"
   ],
   "metadata": {
    "collapsed": false,
    "pycharm": {
     "name": "#%% md\n"
    }
   }
  },
  {
   "cell_type": "code",
   "execution_count": null,
   "outputs": [],
   "source": [
    "from sklearn.linear_model import LinearRegression\n",
    "lin_model = LinearRegression()\n",
    "\n",
    "lin_model.fit(X_train, y_train)\n",
    "\n",
    "print(\"Intercept:\", round(lin_model.intercept_, 3))\n",
    "print(\"Score:\", round(lin_model.score(X_test, y_test), 3))\n",
    "\n",
    "n = len(y)\n",
    "p = X.shape[1]\n",
    "r2 = lin_model.score(X_test, y_test)\n",
    "adj_r2 = 1 - ((1 - r2) * (n - 1) / (n - p - 1))\n",
    "\n",
    "print(\"R-squared:\", round(adj_r2, 3))\n",
    "\n",
    "# y_pred = lin_model.predict(X_test)"
   ],
   "metadata": {
    "collapsed": false,
    "pycharm": {
     "name": "#%%\n"
    }
   }
  },
  {
   "cell_type": "markdown",
   "source": [
    "## Random Forest"
   ],
   "metadata": {
    "collapsed": false,
    "pycharm": {
     "name": "#%% md\n"
    }
   }
  },
  {
   "cell_type": "code",
   "execution_count": null,
   "outputs": [],
   "source": [
    "from sklearn.ensemble import RandomForestRegressor\n",
    "\n",
    "rf_model = RandomForestRegressor(n_estimators = 100, random_state=42)\n",
    "rf_model.fit(X_train, y_train)"
   ],
   "metadata": {
    "collapsed": false,
    "pycharm": {
     "name": "#%%\n"
    }
   }
  },
  {
   "cell_type": "code",
   "execution_count": null,
   "outputs": [],
   "source": [
    "display(rf_model.get_params())"
   ],
   "metadata": {
    "collapsed": false,
    "pycharm": {
     "name": "#%%\n"
    }
   }
  },
  {
   "cell_type": "code",
   "execution_count": null,
   "outputs": [],
   "source": [
    "# Number of trees in random forest\n",
    "n_estimators = [int(x) for x in np.linspace(start = 200, stop = 2000, num = 10)]\n",
    "\n",
    "# Number of features to consider at every split\n",
    "max_features = ['auto', 'sqrt']\n",
    "\n",
    "# Maximum number of levels in tree\n",
    "max_depth = [int(x) for x in np.linspace(10, 110, num = 11)]\n",
    "max_depth.append(None)\n",
    "\n",
    "# Minimum number of samples required to split a node\n",
    "min_samples_split = [2, 5, 10]\n",
    "\n",
    "# Minimum number of samples required at each leaf node\n",
    "min_samples_leaf = [1, 2, 4]\n",
    "\n",
    "# Method of selecting samples for training each tree\n",
    "bootstrap = [True, False]\n",
    "\n",
    "# Create the random grid\n",
    "random_grid = {'n_estimators': n_estimators,\n",
    "               'max_features': max_features,\n",
    "               'max_depth': max_depth,\n",
    "               'min_samples_split': min_samples_split,\n",
    "               'min_samples_leaf': min_samples_leaf,\n",
    "               'bootstrap': bootstrap}\n",
    "\n",
    "display(random_grid)"
   ],
   "metadata": {
    "collapsed": false,
    "pycharm": {
     "name": "#%%\n"
    }
   }
  },
  {
   "cell_type": "code",
   "execution_count": null,
   "outputs": [],
   "source": [
    "from sklearn.model_selection import RandomizedSearchCV\n",
    "\n",
    "# Random search of parameters, using 3 fold cross validation across 10 different combinations\n",
    "rf_random = RandomizedSearchCV(estimator = rf_model, param_distributions = random_grid, n_iter = 10, cv = 3, verbose=2, random_state=42, n_jobs = -1)\n",
    "rf_random.fit(X_train, y_train)"
   ],
   "metadata": {
    "collapsed": false,
    "pycharm": {
     "name": "#%%\n"
    }
   }
  },
  {
   "cell_type": "code",
   "execution_count": null,
   "outputs": [],
   "source": [
    "display(rf_random.best_params_)"
   ],
   "metadata": {
    "collapsed": false,
    "pycharm": {
     "name": "#%%\n"
    }
   }
  },
  {
   "cell_type": "code",
   "execution_count": null,
   "outputs": [],
   "source": [
    "best_rf_model = rf_random.best_estimator_"
   ],
   "metadata": {
    "collapsed": false,
    "pycharm": {
     "name": "#%%\n"
    }
   }
  },
  {
   "cell_type": "markdown",
   "source": [
    "## Gradient Boosting"
   ],
   "metadata": {
    "collapsed": false,
    "pycharm": {
     "name": "#%% md\n"
    }
   }
  },
  {
   "cell_type": "code",
   "execution_count": null,
   "outputs": [],
   "source": [
    "from sklearn.ensemble import GradientBoostingRegressor\n",
    "\n",
    "gb_model = GradientBoostingRegressor(random_state=42)\n",
    "gb_model.fit(X_train, y_train)"
   ],
   "metadata": {
    "collapsed": false,
    "pycharm": {
     "name": "#%%\n"
    }
   }
  },
  {
   "cell_type": "code",
   "execution_count": null,
   "outputs": [],
   "source": [
    "gbp_model = GradientBoostingRegressor(n_estimators=3000,\n",
    "                                      learning_rate=0.05,\n",
    "                                      max_depth=4,\n",
    "                                      max_features='sqrt',\n",
    "                                      min_samples_leaf=15,\n",
    "                                      min_samples_split=10,\n",
    "                                      loss='huber',\n",
    "                                      random_state=42)\n",
    "\n",
    "gbp_model.fit(X_train, y_train)"
   ],
   "metadata": {
    "collapsed": false,
    "pycharm": {
     "name": "#%%\n"
    }
   }
  },
  {
   "cell_type": "markdown",
   "source": [
    "## Model Evaluation"
   ],
   "metadata": {
    "collapsed": false,
    "pycharm": {
     "name": "#%% md\n"
    }
   }
  },
  {
   "cell_type": "code",
   "execution_count": null,
   "outputs": [],
   "source": [
    "import sklearn.metrics as skm\n",
    "from sklearn.metrics import r2_score\n",
    "\n",
    "def evaluate_model(y_test, y_pred,X_test):\n",
    "    print(\"R2 score =\", round(skm.r2_score(y_test, y_pred), 4))\n",
    "    n = len(y_test)\n",
    "    p = X_test.shape[1]\n",
    "    skm.r2_score(y_test, y_pred)\n",
    "    adj_r2 = 1 - ((1 - r2) * (n - 1) / (n - p - 1))\n",
    "    print(\"R2 adj score =\", round(adj_r2, 4))\n",
    "    print(\"Mean squared error =\", round(skm.mean_squared_error(y_test, y_pred), 2))\n",
    "    print(\"RMSE =\", round((np.sqrt(skm.mean_squared_error(y_test, y_pred))), 10))\n",
    "    print(\"Mean absolute error =\", round(skm.mean_absolute_error(y_test, y_pred), 2))\n",
    "    print(\"Median absolute error =\", round(skm.median_absolute_error(y_test, y_pred), 2))"
   ],
   "metadata": {
    "collapsed": false,
    "pycharm": {
     "name": "#%%\n"
    }
   }
  },
  {
   "cell_type": "code",
   "execution_count": null,
   "outputs": [],
   "source": [
    "df_evalution = pd.DataFrame(data=np.nan, index=range(5), columns=['Model','RMSE', 'RMSE non-log'])"
   ],
   "metadata": {
    "collapsed": false,
    "pycharm": {
     "name": "#%%\n"
    }
   }
  },
  {
   "cell_type": "markdown",
   "source": [
    "## Evaluation Linear Model"
   ],
   "metadata": {
    "collapsed": false,
    "pycharm": {
     "name": "#%% md\n"
    }
   }
  },
  {
   "cell_type": "code",
   "execution_count": null,
   "outputs": [],
   "source": [
    "y_pred_subset = lin_model.predict(X_test)\n",
    "evaluate_model(y_test, y_pred_subset,X_test)\n",
    "df_evalution.loc[0,'Model']='Linear Model'\n",
    "df_evalution.loc[0,'RMSE']=round((np.sqrt(skm.mean_squared_error(y_test, y_pred_subset))), 10)\n",
    "df_evalution.loc[0,'RMSE non-log']=np.exp(df_evalution.loc[0,'RMSE'])"
   ],
   "metadata": {
    "collapsed": false,
    "pycharm": {
     "name": "#%%\n"
    }
   }
  },
  {
   "cell_type": "markdown",
   "source": [
    "## Evaluation Random Forest"
   ],
   "metadata": {
    "collapsed": false,
    "pycharm": {
     "name": "#%% md\n"
    }
   }
  },
  {
   "cell_type": "markdown",
   "source": [
    "Without hyper-parameter optimization\n"
   ],
   "metadata": {
    "collapsed": false,
    "pycharm": {
     "name": "#%% md\n"
    }
   }
  },
  {
   "cell_type": "code",
   "execution_count": null,
   "outputs": [],
   "source": [
    "y_pred = rf_model.predict(X_test)\n",
    "evaluate_model(y_test, y_pred,X_test)\n",
    "df_evalution.loc[1,'Model']='Random Forest Model'\n",
    "df_evalution.loc[1,'RMSE']=round((np.sqrt(skm.mean_squared_error(y_test, y_pred))), 10)\n",
    "df_evalution.loc[1,'RMSE non-log']=np.exp(df_evalution.loc[1,'RMSE'])"
   ],
   "metadata": {
    "collapsed": false,
    "pycharm": {
     "name": "#%%\n"
    }
   }
  },
  {
   "cell_type": "markdown",
   "source": [
    "With hyper-parameter optimization\n"
   ],
   "metadata": {
    "collapsed": false,
    "pycharm": {
     "name": "#%% md\n"
    }
   }
  },
  {
   "cell_type": "code",
   "execution_count": null,
   "outputs": [],
   "source": [
    "y_pred = best_rf_model.predict(X_test)\n",
    "evaluate_model(y_test, y_pred,X_test)\n",
    "df_evalution.loc[2,'Model']='Random Forest Model Hyper-Parametr'\n",
    "df_evalution.loc[2,'RMSE']=round((np.sqrt(skm.mean_squared_error(y_test, y_pred))), 10)\n",
    "df_evalution.loc[2,'RMSE non-log']=np.exp(df_evalution.loc[2,'RMSE'])"
   ],
   "metadata": {
    "collapsed": false,
    "pycharm": {
     "name": "#%%\n"
    }
   }
  },
  {
   "cell_type": "markdown",
   "source": [
    "## Evaluation Gradient Boosting"
   ],
   "metadata": {
    "collapsed": false,
    "pycharm": {
     "name": "#%% md\n"
    }
   }
  },
  {
   "cell_type": "markdown",
   "source": [
    "Without hyper-parameter optimization"
   ],
   "metadata": {
    "collapsed": false,
    "pycharm": {
     "name": "#%% md\n"
    }
   }
  },
  {
   "cell_type": "code",
   "execution_count": null,
   "outputs": [],
   "source": [
    "y_pred = gb_model.predict(X_test)\n",
    "evaluate_model(y_test, y_pred,X_test)\n",
    "df_evalution.loc[3,'Model']='Gradient Boosting'\n",
    "df_evalution.loc[3,'RMSE']=round((np.sqrt(skm.mean_squared_error(y_test, y_pred))), 10)\n",
    "df_evalution.loc[3,'RMSE non-log']=np.exp(df_evalution.loc[3,'RMSE'])"
   ],
   "metadata": {
    "collapsed": false,
    "pycharm": {
     "name": "#%%\n"
    }
   }
  },
  {
   "cell_type": "markdown",
   "source": [
    "With hyper-parameter optimization"
   ],
   "metadata": {
    "collapsed": false,
    "pycharm": {
     "name": "#%% md\n"
    }
   }
  },
  {
   "cell_type": "code",
   "execution_count": null,
   "outputs": [],
   "source": [
    "y_pred = gbp_model.predict(X_test)\n",
    "evaluate_model(y_test, y_pred,X_test)\n",
    "df_evalution.loc[4,'Model']='Gradient Boosting Hyper-Parametr'\n",
    "df_evalution.loc[4,'RMSE']=round((np.sqrt(skm.mean_squared_error(y_test, y_pred))), 10)\n",
    "df_evalution.loc[4,'RMSE non-log']=np.exp(df_evalution.loc[4,'RMSE'])"
   ],
   "metadata": {
    "collapsed": false,
    "pycharm": {
     "name": "#%%\n"
    }
   }
  },
  {
   "cell_type": "markdown",
   "source": [
    "## Comparison"
   ],
   "metadata": {
    "collapsed": false,
    "pycharm": {
     "name": "#%% md\n"
    }
   }
  },
  {
   "cell_type": "code",
   "execution_count": null,
   "outputs": [],
   "source": [
    "sorted_df = df_evalution.sort_values('RMSE', ascending=True)\n",
    "print('Sorted by RMSE in ascending order:\\n')\n",
    "print(sorted_df)"
   ],
   "metadata": {
    "collapsed": false,
    "pycharm": {
     "name": "#%%\n"
    }
   }
  },
  {
   "cell_type": "markdown",
   "source": [
    "The best model is Random Forest with Hyper-Parameter tuning"
   ],
   "metadata": {
    "collapsed": false,
    "pycharm": {
     "name": "#%% md\n"
    }
   }
  },
  {
   "cell_type": "markdown",
   "source": [
    "## The most important features in the RF model"
   ],
   "metadata": {
    "collapsed": false,
    "pycharm": {
     "name": "#%% md\n"
    }
   }
  },
  {
   "cell_type": "code",
   "execution_count": null,
   "outputs": [],
   "source": [
    "import pandas as pd\n",
    "\n",
    "# Get feature importances from the best_rf_model\n",
    "feature_importances = best_rf_model.feature_importances_\n",
    "\n",
    "# Create a DataFrame with feature names and importances\n",
    "df_feature_importances = pd.DataFrame({'Feature': X.columns, 'Importance': feature_importances})\n",
    "\n",
    "# Sort the DataFrame by importance in descending order\n",
    "df_feature_importances = df_feature_importances.sort_values('Importance', ascending=False)\n",
    "\n",
    "# Display the sorted DataFrame\n",
    "print(df_feature_importances.head(20))\n"
   ],
   "metadata": {
    "collapsed": false,
    "pycharm": {
     "name": "#%%\n"
    }
   }
  }
 ],
 "metadata": {
  "kernelspec": {
   "display_name": "Python 3",
   "language": "python",
   "name": "python3"
  },
  "language_info": {
   "codemirror_mode": {
    "name": "ipython",
    "version": 3
   },
   "file_extension": ".py",
   "mimetype": "text/x-python",
   "name": "python",
   "nbconvert_exporter": "python",
   "pygments_lexer": "ipython3",
   "version": "3.8.8"
  }
 },
 "nbformat": 4,
 "nbformat_minor": 5
}