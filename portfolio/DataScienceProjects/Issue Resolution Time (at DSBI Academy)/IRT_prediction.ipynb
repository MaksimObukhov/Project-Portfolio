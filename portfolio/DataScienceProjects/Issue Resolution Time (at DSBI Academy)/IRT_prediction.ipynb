{
 "cells": [
  {
   "cell_type": "code",
   "execution_count": 1,
   "metadata": {
    "collapsed": true,
    "pycharm": {
     "name": "#%%\n"
    }
   },
   "outputs": [],
   "source": [
    "%reset"
   ]
  },
  {
   "cell_type": "code",
   "execution_count": 2,
   "outputs": [],
   "source": [
    "import numpy as np\n",
    "import pandas as pd\n",
    "import sklearn\n",
    "from matplotlib import pyplot as plt\n",
    "from datetime import datetime as dt\n",
    "import re\n",
    "import warnings\n",
    "warnings.filterwarnings('ignore')"
   ],
   "metadata": {
    "collapsed": false,
    "pycharm": {
     "name": "#%%\n"
    }
   }
  },
  {
   "cell_type": "markdown",
   "source": [
    "Data import"
   ],
   "metadata": {
    "collapsed": false,
    "pycharm": {
     "name": "#%% md\n"
    }
   }
  },
  {
   "cell_type": "code",
   "execution_count": 3,
   "outputs": [],
   "source": [
    "raw_data = pd.read_csv(\"incident_event_log.csv\")\n",
    "df = raw_data"
   ],
   "metadata": {
    "collapsed": false,
    "pycharm": {
     "name": "#%%\n"
    }
   }
  },
  {
   "cell_type": "code",
   "execution_count": 4,
   "outputs": [
    {
     "data": {
      "text/plain": "       number incident_state  active  reassignment_count  reopen_count  \\\n0  INC0000045            New    True                   0             0   \n1  INC0000045       Resolved    True                   0             0   \n2  INC0000045       Resolved    True                   0             0   \n3  INC0000045         Closed   False                   0             0   \n4  INC0000047            New    True                   0             0   \n\n   sys_mod_count  made_sla    caller_id       opened_by        opened_at  ...  \\\n0              0      True  Caller 2403    Opened by  8  29/2/2016 01:16  ...   \n1              2      True  Caller 2403    Opened by  8  29/2/2016 01:16  ...   \n2              3      True  Caller 2403    Opened by  8  29/2/2016 01:16  ...   \n3              4      True  Caller 2403    Opened by  8  29/2/2016 01:16  ...   \n4              0      True  Caller 2403  Opened by  397  29/2/2016 04:40  ...   \n\n  u_priority_confirmation         notify problem_id rfc vendor caused_by  \\\n0                   False  Do Not Notify          ?   ?      ?         ?   \n1                   False  Do Not Notify          ?   ?      ?         ?   \n2                   False  Do Not Notify          ?   ?      ?         ?   \n3                   False  Do Not Notify          ?   ?      ?         ?   \n4                   False  Do Not Notify          ?   ?      ?         ?   \n\n  closed_code      resolved_by      resolved_at       closed_at  \n0      code 5  Resolved by 149  29/2/2016 11:29  5/3/2016 12:00  \n1      code 5  Resolved by 149  29/2/2016 11:29  5/3/2016 12:00  \n2      code 5  Resolved by 149  29/2/2016 11:29  5/3/2016 12:00  \n3      code 5  Resolved by 149  29/2/2016 11:29  5/3/2016 12:00  \n4      code 5   Resolved by 81   1/3/2016 09:52  6/3/2016 10:00  \n\n[5 rows x 36 columns]",
      "text/html": "<div>\n<style scoped>\n    .dataframe tbody tr th:only-of-type {\n        vertical-align: middle;\n    }\n\n    .dataframe tbody tr th {\n        vertical-align: top;\n    }\n\n    .dataframe thead th {\n        text-align: right;\n    }\n</style>\n<table border=\"1\" class=\"dataframe\">\n  <thead>\n    <tr style=\"text-align: right;\">\n      <th></th>\n      <th>number</th>\n      <th>incident_state</th>\n      <th>active</th>\n      <th>reassignment_count</th>\n      <th>reopen_count</th>\n      <th>sys_mod_count</th>\n      <th>made_sla</th>\n      <th>caller_id</th>\n      <th>opened_by</th>\n      <th>opened_at</th>\n      <th>...</th>\n      <th>u_priority_confirmation</th>\n      <th>notify</th>\n      <th>problem_id</th>\n      <th>rfc</th>\n      <th>vendor</th>\n      <th>caused_by</th>\n      <th>closed_code</th>\n      <th>resolved_by</th>\n      <th>resolved_at</th>\n      <th>closed_at</th>\n    </tr>\n  </thead>\n  <tbody>\n    <tr>\n      <th>0</th>\n      <td>INC0000045</td>\n      <td>New</td>\n      <td>True</td>\n      <td>0</td>\n      <td>0</td>\n      <td>0</td>\n      <td>True</td>\n      <td>Caller 2403</td>\n      <td>Opened by  8</td>\n      <td>29/2/2016 01:16</td>\n      <td>...</td>\n      <td>False</td>\n      <td>Do Not Notify</td>\n      <td>?</td>\n      <td>?</td>\n      <td>?</td>\n      <td>?</td>\n      <td>code 5</td>\n      <td>Resolved by 149</td>\n      <td>29/2/2016 11:29</td>\n      <td>5/3/2016 12:00</td>\n    </tr>\n    <tr>\n      <th>1</th>\n      <td>INC0000045</td>\n      <td>Resolved</td>\n      <td>True</td>\n      <td>0</td>\n      <td>0</td>\n      <td>2</td>\n      <td>True</td>\n      <td>Caller 2403</td>\n      <td>Opened by  8</td>\n      <td>29/2/2016 01:16</td>\n      <td>...</td>\n      <td>False</td>\n      <td>Do Not Notify</td>\n      <td>?</td>\n      <td>?</td>\n      <td>?</td>\n      <td>?</td>\n      <td>code 5</td>\n      <td>Resolved by 149</td>\n      <td>29/2/2016 11:29</td>\n      <td>5/3/2016 12:00</td>\n    </tr>\n    <tr>\n      <th>2</th>\n      <td>INC0000045</td>\n      <td>Resolved</td>\n      <td>True</td>\n      <td>0</td>\n      <td>0</td>\n      <td>3</td>\n      <td>True</td>\n      <td>Caller 2403</td>\n      <td>Opened by  8</td>\n      <td>29/2/2016 01:16</td>\n      <td>...</td>\n      <td>False</td>\n      <td>Do Not Notify</td>\n      <td>?</td>\n      <td>?</td>\n      <td>?</td>\n      <td>?</td>\n      <td>code 5</td>\n      <td>Resolved by 149</td>\n      <td>29/2/2016 11:29</td>\n      <td>5/3/2016 12:00</td>\n    </tr>\n    <tr>\n      <th>3</th>\n      <td>INC0000045</td>\n      <td>Closed</td>\n      <td>False</td>\n      <td>0</td>\n      <td>0</td>\n      <td>4</td>\n      <td>True</td>\n      <td>Caller 2403</td>\n      <td>Opened by  8</td>\n      <td>29/2/2016 01:16</td>\n      <td>...</td>\n      <td>False</td>\n      <td>Do Not Notify</td>\n      <td>?</td>\n      <td>?</td>\n      <td>?</td>\n      <td>?</td>\n      <td>code 5</td>\n      <td>Resolved by 149</td>\n      <td>29/2/2016 11:29</td>\n      <td>5/3/2016 12:00</td>\n    </tr>\n    <tr>\n      <th>4</th>\n      <td>INC0000047</td>\n      <td>New</td>\n      <td>True</td>\n      <td>0</td>\n      <td>0</td>\n      <td>0</td>\n      <td>True</td>\n      <td>Caller 2403</td>\n      <td>Opened by  397</td>\n      <td>29/2/2016 04:40</td>\n      <td>...</td>\n      <td>False</td>\n      <td>Do Not Notify</td>\n      <td>?</td>\n      <td>?</td>\n      <td>?</td>\n      <td>?</td>\n      <td>code 5</td>\n      <td>Resolved by 81</td>\n      <td>1/3/2016 09:52</td>\n      <td>6/3/2016 10:00</td>\n    </tr>\n  </tbody>\n</table>\n<p>5 rows × 36 columns</p>\n</div>"
     },
     "execution_count": 4,
     "metadata": {},
     "output_type": "execute_result"
    }
   ],
   "source": [
    "df.head()"
   ],
   "metadata": {
    "collapsed": false,
    "pycharm": {
     "name": "#%%\n"
    }
   }
  },
  {
   "cell_type": "code",
   "execution_count": 5,
   "outputs": [
    {
     "data": {
      "text/plain": "number                     object\nincident_state             object\nactive                       bool\nreassignment_count          int64\nreopen_count                int64\nsys_mod_count               int64\nmade_sla                     bool\ncaller_id                  object\nopened_by                  object\nopened_at                  object\nsys_created_by             object\nsys_created_at             object\nsys_updated_by             object\nsys_updated_at             object\ncontact_type               object\nlocation                   object\ncategory                   object\nsubcategory                object\nu_symptom                  object\ncmdb_ci                    object\nimpact                     object\nurgency                    object\npriority                   object\nassignment_group           object\nassigned_to                object\nknowledge                    bool\nu_priority_confirmation      bool\nnotify                     object\nproblem_id                 object\nrfc                        object\nvendor                     object\ncaused_by                  object\nclosed_code                object\nresolved_by                object\nresolved_at                object\nclosed_at                  object\ndtype: object"
     },
     "execution_count": 5,
     "metadata": {},
     "output_type": "execute_result"
    }
   ],
   "source": [
    "df.dtypes"
   ],
   "metadata": {
    "collapsed": false,
    "pycharm": {
     "name": "#%%\n"
    }
   }
  },
  {
   "cell_type": "code",
   "execution_count": 6,
   "outputs": [
    {
     "data": {
      "text/plain": "            opened_at      sys_created_at      sys_updated_at  \\\n0 2016-02-29 01:16:00 2016-02-29 01:23:00 2016-02-29 01:23:00   \n1 2016-02-29 01:16:00 2016-02-29 01:23:00 2016-02-29 08:53:00   \n2 2016-02-29 01:16:00 2016-02-29 01:23:00 2016-02-29 11:29:00   \n3 2016-02-29 01:16:00 2016-02-29 01:23:00 2016-03-05 12:00:00   \n4 2016-02-29 04:40:00 2016-02-29 04:57:00 2016-02-29 04:57:00   \n\n          resolved_at           closed_at  \n0 2016-02-29 11:29:00 2016-03-05 12:00:00  \n1 2016-02-29 11:29:00 2016-03-05 12:00:00  \n2 2016-02-29 11:29:00 2016-03-05 12:00:00  \n3 2016-02-29 11:29:00 2016-03-05 12:00:00  \n4 2016-03-01 09:52:00 2016-03-06 10:00:00  ",
      "text/html": "<div>\n<style scoped>\n    .dataframe tbody tr th:only-of-type {\n        vertical-align: middle;\n    }\n\n    .dataframe tbody tr th {\n        vertical-align: top;\n    }\n\n    .dataframe thead th {\n        text-align: right;\n    }\n</style>\n<table border=\"1\" class=\"dataframe\">\n  <thead>\n    <tr style=\"text-align: right;\">\n      <th></th>\n      <th>opened_at</th>\n      <th>sys_created_at</th>\n      <th>sys_updated_at</th>\n      <th>resolved_at</th>\n      <th>closed_at</th>\n    </tr>\n  </thead>\n  <tbody>\n    <tr>\n      <th>0</th>\n      <td>2016-02-29 01:16:00</td>\n      <td>2016-02-29 01:23:00</td>\n      <td>2016-02-29 01:23:00</td>\n      <td>2016-02-29 11:29:00</td>\n      <td>2016-03-05 12:00:00</td>\n    </tr>\n    <tr>\n      <th>1</th>\n      <td>2016-02-29 01:16:00</td>\n      <td>2016-02-29 01:23:00</td>\n      <td>2016-02-29 08:53:00</td>\n      <td>2016-02-29 11:29:00</td>\n      <td>2016-03-05 12:00:00</td>\n    </tr>\n    <tr>\n      <th>2</th>\n      <td>2016-02-29 01:16:00</td>\n      <td>2016-02-29 01:23:00</td>\n      <td>2016-02-29 11:29:00</td>\n      <td>2016-02-29 11:29:00</td>\n      <td>2016-03-05 12:00:00</td>\n    </tr>\n    <tr>\n      <th>3</th>\n      <td>2016-02-29 01:16:00</td>\n      <td>2016-02-29 01:23:00</td>\n      <td>2016-03-05 12:00:00</td>\n      <td>2016-02-29 11:29:00</td>\n      <td>2016-03-05 12:00:00</td>\n    </tr>\n    <tr>\n      <th>4</th>\n      <td>2016-02-29 04:40:00</td>\n      <td>2016-02-29 04:57:00</td>\n      <td>2016-02-29 04:57:00</td>\n      <td>2016-03-01 09:52:00</td>\n      <td>2016-03-06 10:00:00</td>\n    </tr>\n  </tbody>\n</table>\n</div>"
     },
     "execution_count": 6,
     "metadata": {},
     "output_type": "execute_result"
    }
   ],
   "source": [
    "dt_columns = ['opened_at', 'sys_created_at', 'sys_updated_at', 'resolved_at', 'closed_at']\n",
    "date_time = df[dt_columns]\n",
    "date_time = date_time.apply(lambda x: pd.to_datetime(x, dayfirst=True, format='%d/%m/%Y %H:%M', errors='coerce'))\n",
    "date_time.head()"
   ],
   "metadata": {
    "collapsed": false,
    "pycharm": {
     "name": "#%%\n"
    }
   }
  },
  {
   "cell_type": "code",
   "execution_count": 7,
   "outputs": [
    {
     "data": {
      "text/plain": "            opened_at         resolved_at  T_minutes_to_resolved\n0 2016-02-29 01:16:00 2016-02-29 11:29:00                  613.0\n1 2016-02-29 01:16:00 2016-02-29 11:29:00                  613.0\n2 2016-02-29 01:16:00 2016-02-29 11:29:00                  613.0\n3 2016-02-29 01:16:00 2016-02-29 11:29:00                  613.0\n4 2016-02-29 04:40:00 2016-03-01 09:52:00                 1752.0\n5 2016-02-29 04:40:00 2016-03-01 09:52:00                 1752.0\n6 2016-02-29 04:40:00 2016-03-01 09:52:00                 1752.0\n7 2016-02-29 04:40:00 2016-03-01 09:52:00                 1752.0\n8 2016-02-29 04:40:00 2016-03-01 09:52:00                 1752.0\n9 2016-02-29 04:40:00 2016-03-01 09:52:00                 1752.0",
      "text/html": "<div>\n<style scoped>\n    .dataframe tbody tr th:only-of-type {\n        vertical-align: middle;\n    }\n\n    .dataframe tbody tr th {\n        vertical-align: top;\n    }\n\n    .dataframe thead th {\n        text-align: right;\n    }\n</style>\n<table border=\"1\" class=\"dataframe\">\n  <thead>\n    <tr style=\"text-align: right;\">\n      <th></th>\n      <th>opened_at</th>\n      <th>resolved_at</th>\n      <th>T_minutes_to_resolved</th>\n    </tr>\n  </thead>\n  <tbody>\n    <tr>\n      <th>0</th>\n      <td>2016-02-29 01:16:00</td>\n      <td>2016-02-29 11:29:00</td>\n      <td>613.0</td>\n    </tr>\n    <tr>\n      <th>1</th>\n      <td>2016-02-29 01:16:00</td>\n      <td>2016-02-29 11:29:00</td>\n      <td>613.0</td>\n    </tr>\n    <tr>\n      <th>2</th>\n      <td>2016-02-29 01:16:00</td>\n      <td>2016-02-29 11:29:00</td>\n      <td>613.0</td>\n    </tr>\n    <tr>\n      <th>3</th>\n      <td>2016-02-29 01:16:00</td>\n      <td>2016-02-29 11:29:00</td>\n      <td>613.0</td>\n    </tr>\n    <tr>\n      <th>4</th>\n      <td>2016-02-29 04:40:00</td>\n      <td>2016-03-01 09:52:00</td>\n      <td>1752.0</td>\n    </tr>\n    <tr>\n      <th>5</th>\n      <td>2016-02-29 04:40:00</td>\n      <td>2016-03-01 09:52:00</td>\n      <td>1752.0</td>\n    </tr>\n    <tr>\n      <th>6</th>\n      <td>2016-02-29 04:40:00</td>\n      <td>2016-03-01 09:52:00</td>\n      <td>1752.0</td>\n    </tr>\n    <tr>\n      <th>7</th>\n      <td>2016-02-29 04:40:00</td>\n      <td>2016-03-01 09:52:00</td>\n      <td>1752.0</td>\n    </tr>\n    <tr>\n      <th>8</th>\n      <td>2016-02-29 04:40:00</td>\n      <td>2016-03-01 09:52:00</td>\n      <td>1752.0</td>\n    </tr>\n    <tr>\n      <th>9</th>\n      <td>2016-02-29 04:40:00</td>\n      <td>2016-03-01 09:52:00</td>\n      <td>1752.0</td>\n    </tr>\n  </tbody>\n</table>\n</div>"
     },
     "execution_count": 7,
     "metadata": {},
     "output_type": "execute_result"
    }
   ],
   "source": [
    "date_time['T_minutes_to_resolved'] = (date_time['resolved_at'] - date_time['opened_at']).dt.total_seconds() / 60\n",
    "date_time[['opened_at', 'resolved_at', 'T_minutes_to_resolved']].head(10)"
   ],
   "metadata": {
    "collapsed": false,
    "pycharm": {
     "name": "#%%\n"
    }
   }
  },
  {
   "cell_type": "code",
   "execution_count": 8,
   "outputs": [],
   "source": [
    "df[date_time.columns] = date_time"
   ],
   "metadata": {
    "collapsed": false,
    "pycharm": {
     "name": "#%%\n"
    }
   }
  },
  {
   "cell_type": "markdown",
   "source": [
    "Check if the service have no night working hours"
   ],
   "metadata": {
    "collapsed": false,
    "pycharm": {
     "name": "#%% md\n"
    }
   }
  },
  {
   "cell_type": "code",
   "execution_count": 9,
   "outputs": [
    {
     "data": {
      "text/plain": "<Figure size 720x360 with 2 Axes>",
      "image/png": "[encoded data removed]"
     },
     "metadata": {
      "needs_background": "light"
     },
     "output_type": "display_data"
    }
   ],
   "source": [
    "# Create histograms\n",
    "plt.figure(figsize=(10, 5))\n",
    "plt.subplot(1, 2, 1)\n",
    "plt.hist(df['opened_at'].dt.hour, bins=24, color='blue')\n",
    "plt.xlabel('Hour of Day')\n",
    "plt.ylabel('Frequency')\n",
    "plt.title('Histogram of Opened Time')\n",
    "\n",
    "plt.subplot(1, 2, 2)\n",
    "plt.hist(df['sys_created_at'].dt.hour, bins=24, color='green')\n",
    "plt.xlabel('Hour of Day')\n",
    "plt.ylabel('Frequency')\n",
    "plt.title('Histogram of Sys Created Time')\n",
    "\n",
    "plt.tight_layout()\n",
    "plt.show()"
   ],
   "metadata": {
    "collapsed": false,
    "pycharm": {
     "name": "#%%\n"
    }
   }
  },
  {
   "cell_type": "markdown",
   "source": [
    "-The service works at night.\n",
    "-It seems there is NO difference between opened issue time and system created issue time"
   ],
   "metadata": {
    "collapsed": false,
    "pycharm": {
     "name": "#%% md\n"
    }
   }
  },
  {
   "cell_type": "code",
   "execution_count": 11,
   "outputs": [
    {
     "data": {
      "text/plain": "<Figure size 720x360 with 2 Axes>",
      "image/png": "[encoded data removed]"
     },
     "metadata": {
      "needs_background": "light"
     },
     "output_type": "display_data"
    }
   ],
   "source": [
    "# Create histograms\n",
    "plt.figure(figsize=(10, 5))\n",
    "plt.subplot(1, 2, 1)\n",
    "plt.hist(df['resolved_at'].dt.hour, bins=12, color='blue')\n",
    "plt.xlabel('Hour of Day')\n",
    "plt.ylabel('Frequency')\n",
    "plt.title('Histogram of Resolved Time')\n",
    "\n",
    "plt.subplot(1, 2, 2)\n",
    "plt.hist(df['closed_at'].dt.hour, bins=12, color='green')\n",
    "plt.xlabel('Hour of Day')\n",
    "plt.ylabel('Frequency')\n",
    "plt.title('Histogram of Closed Time')\n",
    "\n",
    "plt.tight_layout()\n",
    "plt.show()"
   ],
   "metadata": {
    "collapsed": false,
    "pycharm": {
     "name": "#%%\n"
    }
   }
  },
  {
   "cell_type": "markdown",
   "source": [
    "It seems there is difference between Resolved and Closed Time"
   ],
   "metadata": {
    "collapsed": false,
    "pycharm": {
     "name": "#%% md\n"
    }
   }
  },
  {
   "cell_type": "code",
   "execution_count": 10,
   "outputs": [],
   "source": [
    "# filter work hours ~8-18"
   ],
   "metadata": {
    "collapsed": false,
    "pycharm": {
     "name": "#%%\n"
    }
   }
  },
  {
   "cell_type": "code",
   "execution_count": 10,
   "outputs": [],
   "source": [],
   "metadata": {
    "collapsed": false,
    "pycharm": {
     "name": "#%%\n"
    }
   }
  },
  {
   "cell_type": "code",
   "execution_count": 10,
   "outputs": [],
   "source": [],
   "metadata": {
    "collapsed": false,
    "pycharm": {
     "name": "#%%\n"
    }
   }
  },
  {
   "cell_type": "code",
   "execution_count": 10,
   "outputs": [],
   "source": [],
   "metadata": {
    "collapsed": false,
    "pycharm": {
     "name": "#%%\n"
    }
   }
  }
 ],
 "metadata": {
  "kernelspec": {
   "display_name": "Python 3",
   "language": "python",
   "name": "python3"
  },
  "language_info": {
   "codemirror_mode": {
    "name": "ipython",
    "version": 2
   },
   "file_extension": ".py",
   "mimetype": "text/x-python",
   "name": "python",
   "nbconvert_exporter": "python",
   "pygments_lexer": "ipython2",
   "version": "2.7.6"
  }
 },
 "nbformat": 4,
 "nbformat_minor": 0
}